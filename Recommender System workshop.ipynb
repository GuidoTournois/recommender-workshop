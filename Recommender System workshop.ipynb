{
 "cells": [
  {
   "cell_type": "markdown",
   "metadata": {
    "slideshow": {
     "slide_type": "-"
    }
   },
   "source": [
    "# Introduction To Recommender Systems"
   ]
  },
  {
   "cell_type": "markdown",
   "metadata": {
    "slideshow": {
     "slide_type": "fragment"
    }
   },
   "source": [
    "![title](resources/user_to_user.jpg)"
   ]
  },
  {
   "cell_type": "markdown",
   "metadata": {
    "slideshow": {
     "slide_type": "slide"
    }
   },
   "source": [
    "# Goal of recommender systems"
   ]
  },
  {
   "cell_type": "markdown",
   "metadata": {
    "slideshow": {
     "slide_type": "fragment"
    }
   },
   "source": [
    "> *to predict the \"rating\" or \"preference\" a user would give to an (unseen) item*<br>"
   ]
  },
  {
   "cell_type": "markdown",
   "metadata": {
    "slideshow": {
     "slide_type": "subslide"
    }
   },
   "source": [
    "<center><img src=\"resources/Example.png\" width=\"800\"></center>"
   ]
  },
  {
   "cell_type": "markdown",
   "metadata": {
    "slideshow": {
     "slide_type": "fragment"
    }
   },
   "source": [
    "What rate do you guess that user 1 gives item 3?"
   ]
  },
  {
   "cell_type": "markdown",
   "metadata": {
    "slideshow": {
     "slide_type": "slide"
    }
   },
   "source": [
    "##  Technology evolution of recommenders\n",
    "<center><img src=\"resources/history.png\" height=\"500\"></center>"
   ]
  },
  {
   "cell_type": "markdown",
   "metadata": {
    "slideshow": {
     "slide_type": "subslide"
    }
   },
   "source": [
    "## Content-based recommendation\n",
    "<center><img src=\"resources/contentbased.png\" height=\"500\"></center>"
   ]
  },
  {
   "cell_type": "markdown",
   "metadata": {
    "slideshow": {
     "slide_type": "subslide"
    }
   },
   "source": [
    "## Collaborative Filtering recommendation engine\n",
    "<center><img src=\"resources/CF.png\" width=\"800\"></center>"
   ]
  },
  {
   "cell_type": "markdown",
   "metadata": {
    "slideshow": {
     "slide_type": "slide"
    }
   },
   "source": [
    "##  Technology evolution of recommenders\n",
    "<center><img src=\"resources/history.png\" height=\"500\"></center>"
   ]
  },
  {
   "cell_type": "markdown",
   "metadata": {
    "slideshow": {
     "slide_type": "slide"
    }
   },
   "source": [
    "##  Collaborative Filtering Methods\n",
    "- User-to-User Based: Users who are similar to you also liked ...\n",
    "- Item-to-Item Based: Users who liked this item also liked... \n"
   ]
  },
  {
   "cell_type": "markdown",
   "metadata": {
    "slideshow": {
     "slide_type": "subslide"
    }
   },
   "source": [
    "## User-to-User based\n",
    "<center><img src=\"resources/user-based.png\" height=\"700\"></center>"
   ]
  },
  {
   "cell_type": "markdown",
   "metadata": {
    "slideshow": {
     "slide_type": "subslide"
    }
   },
   "source": [
    "## Item-to-Item based\n",
    "<center><img src=\"resources/item-based.png\" height=\"700\"></center>"
   ]
  },
  {
   "cell_type": "markdown",
   "metadata": {
    "slideshow": {
     "slide_type": "subslide"
    }
   },
   "source": [
    "# Typical User-Item Matrix \n",
    "- The matrix contains either explicit (ratings) or implicit feedback (bought/clicked/viewed)\n",
    "<img src=\"resources/BLOG_CCA_8.png\" width=\"1000\">\n"
   ]
  },
  {
   "cell_type": "markdown",
   "metadata": {
    "slideshow": {
     "slide_type": "subslide"
    }
   },
   "source": [
    "# User-to-User Simularity\n",
    "<center><img src=\"resources/BLOG_CCA_11.png\" width=\"600\"></center>"
   ]
  },
  {
   "cell_type": "markdown",
   "metadata": {
    "slideshow": {
     "slide_type": "subslide"
    }
   },
   "source": [
    "# Item-to-Item Simularity\n",
    "\n",
    "<center><img src=\"resources/BLOG_CCA_10.png\" width=\"600\"></center>"
   ]
  },
  {
   "cell_type": "markdown",
   "metadata": {
    "slideshow": {
     "slide_type": "subslide"
    }
   },
   "source": [
    "## Similarity metrics used in recommendation engines\n",
    "* Cosine distance <br>\n",
    "$\n",
    "d^{cosine}(\\mathbf{x}_a,\\mathbf{x}_b)\n",
    " = \\frac{ \\mathbf{x}_a \\cdot \\mathbf{x}_b }{ \\left \\| \\mathbf{x}_a \\right \\| \\left \\| \\mathbf{x}_b \\right \\| }\n",
    " = \\frac{ \\sum_{i=1}^k x_{a,i}\\cdot x_{b,i} }{\\sqrt{\\sum_{i=1}^k x_{a,i}^2 } \\sqrt{\\sum_{i=1}^k x_{b,i}^2} }\n",
    "$\n",
    "* Pearson correlation distance<br>\n",
    "$\n",
    "d^{pearson}(\\mathbf{x}_a,\\mathbf{x}_b)\n",
    " = \\frac{ \\sum_{i=1}^k (x_{a,i} - \\bar{\\mathbf{x}}_a) \\cdot (x_{b,i} - \\bar{\\mathbf{x}}_b) }{\\sqrt{\\sum_{i=1}^k (x_{a,i} - \\bar{\\mathbf{x}}_a)^2 } \\sqrt{\\sum_{i=1}^k (x_{b,i} - \\bar{\\mathbf{x}}_b)^2} }\n",
    "$\n",
    "* Euclidean distance\n",
    "* Manhattan distance\n",
    "* Jaccard distance\n"
   ]
  },
  {
   "cell_type": "markdown",
   "metadata": {
    "slideshow": {
     "slide_type": "slide"
    }
   },
   "source": [
    "# Hands on a transaction dataset"
   ]
  },
  {
   "cell_type": "markdown",
   "metadata": {
    "slideshow": {
     "slide_type": "subslide"
    }
   },
   "source": [
    "## Read in the transactional data"
   ]
  },
  {
   "cell_type": "code",
   "execution_count": 1,
   "metadata": {
    "slideshow": {
     "slide_type": "-"
    }
   },
   "outputs": [
    {
     "name": "stdout",
     "output_type": "stream",
     "text": [
      "Number of users = 5000 | Number of products = 1000\n",
      "Number of rows in transactional data = 453836\n"
     ]
    }
   ],
   "source": [
    "import numpy as np, pandas as pd\n",
    "transactions = pd.read_pickle('data/transactions.pkl')\n",
    "\n",
    "n_users = transactions.user_id.unique().shape[0]\n",
    "n_items = transactions.product_id.unique().shape[0]\n",
    "print('Number of users = ' + str(n_users) + ' | Number of products = ' + str(n_items))\n",
    "print(f'Number of rows in transactional data = {transactions.shape[0]}')"
   ]
  },
  {
   "cell_type": "code",
   "execution_count": 2,
   "metadata": {
    "scrolled": true,
    "slideshow": {
     "slide_type": "subslide"
    }
   },
   "outputs": [
    {
     "data": {
      "text/html": [
       "<div>\n",
       "<style>\n",
       "    .dataframe thead tr:only-child th {\n",
       "        text-align: right;\n",
       "    }\n",
       "\n",
       "    .dataframe thead th {\n",
       "        text-align: left;\n",
       "    }\n",
       "\n",
       "    .dataframe tbody tr th {\n",
       "        vertical-align: top;\n",
       "    }\n",
       "</style>\n",
       "<table border=\"1\" class=\"dataframe\">\n",
       "  <thead>\n",
       "    <tr style=\"text-align: right;\">\n",
       "      <th></th>\n",
       "      <th>user_id</th>\n",
       "      <th>order_id</th>\n",
       "      <th>product_id</th>\n",
       "      <th>product_name</th>\n",
       "    </tr>\n",
       "  </thead>\n",
       "  <tbody>\n",
       "    <tr>\n",
       "      <th>4698597</th>\n",
       "      <td>18</td>\n",
       "      <td>1020460</td>\n",
       "      <td>21019</td>\n",
       "      <td>Roasted Red Pepper Hummus</td>\n",
       "    </tr>\n",
       "    <tr>\n",
       "      <th>2762349</th>\n",
       "      <td>18</td>\n",
       "      <td>1020460</td>\n",
       "      <td>21137</td>\n",
       "      <td>Organic Strawberries</td>\n",
       "    </tr>\n",
       "    <tr>\n",
       "      <th>10491102</th>\n",
       "      <td>18</td>\n",
       "      <td>1020460</td>\n",
       "      <td>24830</td>\n",
       "      <td>Organic Romaine</td>\n",
       "    </tr>\n",
       "    <tr>\n",
       "      <th>8142399</th>\n",
       "      <td>18</td>\n",
       "      <td>1020460</td>\n",
       "      <td>26209</td>\n",
       "      <td>Limes</td>\n",
       "    </tr>\n",
       "    <tr>\n",
       "      <th>11926926</th>\n",
       "      <td>18</td>\n",
       "      <td>1020460</td>\n",
       "      <td>34126</td>\n",
       "      <td>Organic Italian Parsley Bunch</td>\n",
       "    </tr>\n",
       "    <tr>\n",
       "      <th>19160225</th>\n",
       "      <td>18</td>\n",
       "      <td>1020460</td>\n",
       "      <td>38739</td>\n",
       "      <td>Hass Avocado</td>\n",
       "    </tr>\n",
       "    <tr>\n",
       "      <th>15174494</th>\n",
       "      <td>18</td>\n",
       "      <td>2461523</td>\n",
       "      <td>5450</td>\n",
       "      <td>Small Hass Avocado</td>\n",
       "    </tr>\n",
       "    <tr>\n",
       "      <th>4483330</th>\n",
       "      <td>18</td>\n",
       "      <td>2461523</td>\n",
       "      <td>8518</td>\n",
       "      <td>Organic Red Onion</td>\n",
       "    </tr>\n",
       "    <tr>\n",
       "      <th>587782</th>\n",
       "      <td>18</td>\n",
       "      <td>2461523</td>\n",
       "      <td>17461</td>\n",
       "      <td>Air Chilled Organic Boneless Skinless Chicken ...</td>\n",
       "    </tr>\n",
       "    <tr>\n",
       "      <th>2955579</th>\n",
       "      <td>18</td>\n",
       "      <td>2461523</td>\n",
       "      <td>21137</td>\n",
       "      <td>Organic Strawberries</td>\n",
       "    </tr>\n",
       "    <tr>\n",
       "      <th>17431079</th>\n",
       "      <td>18</td>\n",
       "      <td>2461523</td>\n",
       "      <td>22888</td>\n",
       "      <td>90% Lean Ground Beef</td>\n",
       "    </tr>\n",
       "    <tr>\n",
       "      <th>13825078</th>\n",
       "      <td>18</td>\n",
       "      <td>2780889</td>\n",
       "      <td>40723</td>\n",
       "      <td>Organic Cripps Pink Apples</td>\n",
       "    </tr>\n",
       "    <tr>\n",
       "      <th>20103043</th>\n",
       "      <td>18</td>\n",
       "      <td>3106101</td>\n",
       "      <td>4461</td>\n",
       "      <td>Organic Raw Unfiltered Apple Cider Vinegar</td>\n",
       "    </tr>\n",
       "    <tr>\n",
       "      <th>7098624</th>\n",
       "      <td>18</td>\n",
       "      <td>3106101</td>\n",
       "      <td>5876</td>\n",
       "      <td>Organic Lemon</td>\n",
       "    </tr>\n",
       "    <tr>\n",
       "      <th>2402823</th>\n",
       "      <td>18</td>\n",
       "      <td>3106101</td>\n",
       "      <td>31717</td>\n",
       "      <td>Organic Cilantro</td>\n",
       "    </tr>\n",
       "    <tr>\n",
       "      <th>5502481</th>\n",
       "      <td>37</td>\n",
       "      <td>86313</td>\n",
       "      <td>1158</td>\n",
       "      <td>Mango Chunks</td>\n",
       "    </tr>\n",
       "    <tr>\n",
       "      <th>100106</th>\n",
       "      <td>37</td>\n",
       "      <td>86313</td>\n",
       "      <td>17794</td>\n",
       "      <td>Carrots</td>\n",
       "    </tr>\n",
       "    <tr>\n",
       "      <th>10198077</th>\n",
       "      <td>37</td>\n",
       "      <td>86313</td>\n",
       "      <td>17948</td>\n",
       "      <td>Frozen Organic Wild Blueberries</td>\n",
       "    </tr>\n",
       "    <tr>\n",
       "      <th>11769653</th>\n",
       "      <td>37</td>\n",
       "      <td>86313</td>\n",
       "      <td>28278</td>\n",
       "      <td>Organic Penne Rigate</td>\n",
       "    </tr>\n",
       "    <tr>\n",
       "      <th>15840391</th>\n",
       "      <td>37</td>\n",
       "      <td>86313</td>\n",
       "      <td>45200</td>\n",
       "      <td>Organic Cauliflower</td>\n",
       "    </tr>\n",
       "  </tbody>\n",
       "</table>\n",
       "</div>"
      ],
      "text/plain": [
       "          user_id  order_id  product_id  \\\n",
       "4698597        18   1020460       21019   \n",
       "2762349        18   1020460       21137   \n",
       "10491102       18   1020460       24830   \n",
       "8142399        18   1020460       26209   \n",
       "11926926       18   1020460       34126   \n",
       "19160225       18   1020460       38739   \n",
       "15174494       18   2461523        5450   \n",
       "4483330        18   2461523        8518   \n",
       "587782         18   2461523       17461   \n",
       "2955579        18   2461523       21137   \n",
       "17431079       18   2461523       22888   \n",
       "13825078       18   2780889       40723   \n",
       "20103043       18   3106101        4461   \n",
       "7098624        18   3106101        5876   \n",
       "2402823        18   3106101       31717   \n",
       "5502481        37     86313        1158   \n",
       "100106         37     86313       17794   \n",
       "10198077       37     86313       17948   \n",
       "11769653       37     86313       28278   \n",
       "15840391       37     86313       45200   \n",
       "\n",
       "                                               product_name  \n",
       "4698597                           Roasted Red Pepper Hummus  \n",
       "2762349                                Organic Strawberries  \n",
       "10491102                                    Organic Romaine  \n",
       "8142399                                               Limes  \n",
       "11926926                      Organic Italian Parsley Bunch  \n",
       "19160225                                       Hass Avocado  \n",
       "15174494                                 Small Hass Avocado  \n",
       "4483330                                   Organic Red Onion  \n",
       "587782    Air Chilled Organic Boneless Skinless Chicken ...  \n",
       "2955579                                Organic Strawberries  \n",
       "17431079                               90% Lean Ground Beef  \n",
       "13825078                         Organic Cripps Pink Apples  \n",
       "20103043         Organic Raw Unfiltered Apple Cider Vinegar  \n",
       "7098624                                       Organic Lemon  \n",
       "2402823                                    Organic Cilantro  \n",
       "5502481                                        Mango Chunks  \n",
       "100106                                              Carrots  \n",
       "10198077                    Frozen Organic Wild Blueberries  \n",
       "11769653                               Organic Penne Rigate  \n",
       "15840391                                Organic Cauliflower  "
      ]
     },
     "execution_count": 2,
     "metadata": {},
     "output_type": "execute_result"
    }
   ],
   "source": [
    "transactions.sort_values(by=['user_id','order_id','product_id'],inplace=True)\n",
    "transactions = transactions[['user_id','order_id','product_id','product_name']]\n",
    "transactions.head(20)"
   ]
  },
  {
   "cell_type": "markdown",
   "metadata": {
    "slideshow": {
     "slide_type": "subslide"
    }
   },
   "source": [
    "<center><img src=\"resources/simplify.jpg\" width=\"600\"></center>"
   ]
  },
  {
   "cell_type": "markdown",
   "metadata": {
    "slideshow": {
     "slide_type": "fragment"
    }
   },
   "source": [
    "### During this workshop, we do not look at frequency. Only, whether a user bought an item or not."
   ]
  },
  {
   "cell_type": "code",
   "execution_count": 3,
   "metadata": {
    "scrolled": true,
    "slideshow": {
     "slide_type": "subslide"
    }
   },
   "outputs": [],
   "source": [
    "transactions = transactions.drop('order_id',axis=1).drop_duplicates() \n",
    "# only keep single interactions"
   ]
  },
  {
   "cell_type": "code",
   "execution_count": 4,
   "metadata": {},
   "outputs": [
    {
     "data": {
      "text/html": [
       "<div>\n",
       "<style>\n",
       "    .dataframe thead tr:only-child th {\n",
       "        text-align: right;\n",
       "    }\n",
       "\n",
       "    .dataframe thead th {\n",
       "        text-align: left;\n",
       "    }\n",
       "\n",
       "    .dataframe tbody tr th {\n",
       "        vertical-align: top;\n",
       "    }\n",
       "</style>\n",
       "<table border=\"1\" class=\"dataframe\">\n",
       "  <thead>\n",
       "    <tr style=\"text-align: right;\">\n",
       "      <th></th>\n",
       "      <th>user_id</th>\n",
       "      <th>product_id</th>\n",
       "      <th>product_name</th>\n",
       "    </tr>\n",
       "  </thead>\n",
       "  <tbody>\n",
       "    <tr>\n",
       "      <th>4698597</th>\n",
       "      <td>18</td>\n",
       "      <td>21019</td>\n",
       "      <td>Roasted Red Pepper Hummus</td>\n",
       "    </tr>\n",
       "    <tr>\n",
       "      <th>2402823</th>\n",
       "      <td>18</td>\n",
       "      <td>31717</td>\n",
       "      <td>Organic Cilantro</td>\n",
       "    </tr>\n",
       "    <tr>\n",
       "      <th>7098624</th>\n",
       "      <td>18</td>\n",
       "      <td>5876</td>\n",
       "      <td>Organic Lemon</td>\n",
       "    </tr>\n",
       "    <tr>\n",
       "      <th>20103043</th>\n",
       "      <td>18</td>\n",
       "      <td>4461</td>\n",
       "      <td>Organic Raw Unfiltered Apple Cider Vinegar</td>\n",
       "    </tr>\n",
       "    <tr>\n",
       "      <th>17431079</th>\n",
       "      <td>18</td>\n",
       "      <td>22888</td>\n",
       "      <td>90% Lean Ground Beef</td>\n",
       "    </tr>\n",
       "  </tbody>\n",
       "</table>\n",
       "</div>"
      ],
      "text/plain": [
       "          user_id  product_id                                product_name\n",
       "4698597        18       21019                   Roasted Red Pepper Hummus\n",
       "2402823        18       31717                            Organic Cilantro\n",
       "7098624        18        5876                               Organic Lemon\n",
       "20103043       18        4461  Organic Raw Unfiltered Apple Cider Vinegar\n",
       "17431079       18       22888                        90% Lean Ground Beef"
      ]
     },
     "execution_count": 4,
     "metadata": {},
     "output_type": "execute_result"
    }
   ],
   "source": [
    "transactions.sort_values(by='user_id').head()"
   ]
  },
  {
   "cell_type": "markdown",
   "metadata": {
    "slideshow": {
     "slide_type": "subslide"
    }
   },
   "source": [
    "# Normalize user_id\n",
    "As we go to a sparse representation of the matrix later, we make the id's of both users and products range from 0 to n_users and n_items respectively. "
   ]
  },
  {
   "cell_type": "code",
   "execution_count": 5,
   "metadata": {
    "slideshow": {
     "slide_type": "fragment"
    }
   },
   "outputs": [],
   "source": [
    "from resources.tools import Normalizer\n",
    "user_normalizer = Normalizer(transactions.user_id.unique())\n",
    "transactions['user'] = user_normalizer.apply(transactions.user_id)\n",
    "\n",
    "item_normalizer = Normalizer(transactions.product_id.unique())\n",
    "transactions['item'] = item_normalizer.apply(transactions.product_id)"
   ]
  },
  {
   "cell_type": "code",
   "execution_count": 6,
   "metadata": {
    "scrolled": true,
    "slideshow": {
     "slide_type": "subslide"
    }
   },
   "outputs": [
    {
     "data": {
      "text/html": [
       "<div>\n",
       "<style>\n",
       "    .dataframe thead tr:only-child th {\n",
       "        text-align: right;\n",
       "    }\n",
       "\n",
       "    .dataframe thead th {\n",
       "        text-align: left;\n",
       "    }\n",
       "\n",
       "    .dataframe tbody tr th {\n",
       "        vertical-align: top;\n",
       "    }\n",
       "</style>\n",
       "<table border=\"1\" class=\"dataframe\">\n",
       "  <thead>\n",
       "    <tr style=\"text-align: right;\">\n",
       "      <th></th>\n",
       "      <th>user_id</th>\n",
       "      <th>product_id</th>\n",
       "      <th>product_name</th>\n",
       "      <th>user</th>\n",
       "      <th>item</th>\n",
       "    </tr>\n",
       "  </thead>\n",
       "  <tbody>\n",
       "    <tr>\n",
       "      <th>20103043</th>\n",
       "      <td>18</td>\n",
       "      <td>4461</td>\n",
       "      <td>Organic Raw Unfiltered Apple Cider Vinegar</td>\n",
       "      <td>0</td>\n",
       "      <td>72</td>\n",
       "    </tr>\n",
       "    <tr>\n",
       "      <th>15174494</th>\n",
       "      <td>18</td>\n",
       "      <td>5450</td>\n",
       "      <td>Small Hass Avocado</td>\n",
       "      <td>0</td>\n",
       "      <td>101</td>\n",
       "    </tr>\n",
       "    <tr>\n",
       "      <th>7098624</th>\n",
       "      <td>18</td>\n",
       "      <td>5876</td>\n",
       "      <td>Organic Lemon</td>\n",
       "      <td>0</td>\n",
       "      <td>115</td>\n",
       "    </tr>\n",
       "    <tr>\n",
       "      <th>4483330</th>\n",
       "      <td>18</td>\n",
       "      <td>8518</td>\n",
       "      <td>Organic Red Onion</td>\n",
       "      <td>0</td>\n",
       "      <td>167</td>\n",
       "    </tr>\n",
       "    <tr>\n",
       "      <th>587782</th>\n",
       "      <td>18</td>\n",
       "      <td>17461</td>\n",
       "      <td>Air Chilled Organic Boneless Skinless Chicken ...</td>\n",
       "      <td>0</td>\n",
       "      <td>343</td>\n",
       "    </tr>\n",
       "    <tr>\n",
       "      <th>4698597</th>\n",
       "      <td>18</td>\n",
       "      <td>21019</td>\n",
       "      <td>Roasted Red Pepper Hummus</td>\n",
       "      <td>0</td>\n",
       "      <td>424</td>\n",
       "    </tr>\n",
       "    <tr>\n",
       "      <th>2762349</th>\n",
       "      <td>18</td>\n",
       "      <td>21137</td>\n",
       "      <td>Organic Strawberries</td>\n",
       "      <td>0</td>\n",
       "      <td>425</td>\n",
       "    </tr>\n",
       "    <tr>\n",
       "      <th>17431079</th>\n",
       "      <td>18</td>\n",
       "      <td>22888</td>\n",
       "      <td>90% Lean Ground Beef</td>\n",
       "      <td>0</td>\n",
       "      <td>461</td>\n",
       "    </tr>\n",
       "    <tr>\n",
       "      <th>10491102</th>\n",
       "      <td>18</td>\n",
       "      <td>24830</td>\n",
       "      <td>Organic Romaine</td>\n",
       "      <td>0</td>\n",
       "      <td>500</td>\n",
       "    </tr>\n",
       "    <tr>\n",
       "      <th>8142399</th>\n",
       "      <td>18</td>\n",
       "      <td>26209</td>\n",
       "      <td>Limes</td>\n",
       "      <td>0</td>\n",
       "      <td>532</td>\n",
       "    </tr>\n",
       "    <tr>\n",
       "      <th>2402823</th>\n",
       "      <td>18</td>\n",
       "      <td>31717</td>\n",
       "      <td>Organic Cilantro</td>\n",
       "      <td>0</td>\n",
       "      <td>637</td>\n",
       "    </tr>\n",
       "    <tr>\n",
       "      <th>11926926</th>\n",
       "      <td>18</td>\n",
       "      <td>34126</td>\n",
       "      <td>Organic Italian Parsley Bunch</td>\n",
       "      <td>0</td>\n",
       "      <td>686</td>\n",
       "    </tr>\n",
       "    <tr>\n",
       "      <th>19160225</th>\n",
       "      <td>18</td>\n",
       "      <td>38739</td>\n",
       "      <td>Hass Avocado</td>\n",
       "      <td>0</td>\n",
       "      <td>767</td>\n",
       "    </tr>\n",
       "    <tr>\n",
       "      <th>13825078</th>\n",
       "      <td>18</td>\n",
       "      <td>40723</td>\n",
       "      <td>Organic Cripps Pink Apples</td>\n",
       "      <td>0</td>\n",
       "      <td>815</td>\n",
       "    </tr>\n",
       "    <tr>\n",
       "      <th>13670127</th>\n",
       "      <td>37</td>\n",
       "      <td>651</td>\n",
       "      <td>Organic Salted Butter</td>\n",
       "      <td>1</td>\n",
       "      <td>10</td>\n",
       "    </tr>\n",
       "    <tr>\n",
       "      <th>5502481</th>\n",
       "      <td>37</td>\n",
       "      <td>1158</td>\n",
       "      <td>Mango Chunks</td>\n",
       "      <td>1</td>\n",
       "      <td>15</td>\n",
       "    </tr>\n",
       "    <tr>\n",
       "      <th>23218589</th>\n",
       "      <td>37</td>\n",
       "      <td>2314</td>\n",
       "      <td>Whole Milk Ricotta Cheese</td>\n",
       "      <td>1</td>\n",
       "      <td>36</td>\n",
       "    </tr>\n",
       "    <tr>\n",
       "      <th>23907602</th>\n",
       "      <td>37</td>\n",
       "      <td>3481</td>\n",
       "      <td>Pineapple</td>\n",
       "      <td>1</td>\n",
       "      <td>55</td>\n",
       "    </tr>\n",
       "    <tr>\n",
       "      <th>23537898</th>\n",
       "      <td>37</td>\n",
       "      <td>4367</td>\n",
       "      <td>Garlic &amp; Fine Herbs Gournay Cheese</td>\n",
       "      <td>1</td>\n",
       "      <td>70</td>\n",
       "    </tr>\n",
       "    <tr>\n",
       "      <th>14051486</th>\n",
       "      <td>37</td>\n",
       "      <td>5134</td>\n",
       "      <td>Organic Thompson Seedless Raisins</td>\n",
       "      <td>1</td>\n",
       "      <td>90</td>\n",
       "    </tr>\n",
       "    <tr>\n",
       "      <th>7443471</th>\n",
       "      <td>37</td>\n",
       "      <td>7021</td>\n",
       "      <td>Organic Tomato Paste</td>\n",
       "      <td>1</td>\n",
       "      <td>132</td>\n",
       "    </tr>\n",
       "    <tr>\n",
       "      <th>12138595</th>\n",
       "      <td>37</td>\n",
       "      <td>8239</td>\n",
       "      <td>Peanut Butter Creamy With Salt</td>\n",
       "      <td>1</td>\n",
       "      <td>160</td>\n",
       "    </tr>\n",
       "    <tr>\n",
       "      <th>4419916</th>\n",
       "      <td>37</td>\n",
       "      <td>8518</td>\n",
       "      <td>Organic Red Onion</td>\n",
       "      <td>1</td>\n",
       "      <td>167</td>\n",
       "    </tr>\n",
       "    <tr>\n",
       "      <th>11335564</th>\n",
       "      <td>37</td>\n",
       "      <td>9839</td>\n",
       "      <td>Organic Broccoli</td>\n",
       "      <td>1</td>\n",
       "      <td>193</td>\n",
       "    </tr>\n",
       "    <tr>\n",
       "      <th>16934756</th>\n",
       "      <td>37</td>\n",
       "      <td>10305</td>\n",
       "      <td>Black Plum</td>\n",
       "      <td>1</td>\n",
       "      <td>200</td>\n",
       "    </tr>\n",
       "    <tr>\n",
       "      <th>15670393</th>\n",
       "      <td>37</td>\n",
       "      <td>12099</td>\n",
       "      <td>Honey Greek Yogurt</td>\n",
       "      <td>1</td>\n",
       "      <td>235</td>\n",
       "    </tr>\n",
       "    <tr>\n",
       "      <th>22822752</th>\n",
       "      <td>37</td>\n",
       "      <td>13431</td>\n",
       "      <td>Flaky Biscuits</td>\n",
       "      <td>1</td>\n",
       "      <td>264</td>\n",
       "    </tr>\n",
       "    <tr>\n",
       "      <th>13395574</th>\n",
       "      <td>37</td>\n",
       "      <td>16185</td>\n",
       "      <td>Sharp Cheddar Cheese</td>\n",
       "      <td>1</td>\n",
       "      <td>318</td>\n",
       "    </tr>\n",
       "    <tr>\n",
       "      <th>6279092</th>\n",
       "      <td>37</td>\n",
       "      <td>16349</td>\n",
       "      <td>Organic Yams</td>\n",
       "      <td>1</td>\n",
       "      <td>324</td>\n",
       "    </tr>\n",
       "    <tr>\n",
       "      <th>18007198</th>\n",
       "      <td>37</td>\n",
       "      <td>16759</td>\n",
       "      <td>Organic Carrot Bunch</td>\n",
       "      <td>1</td>\n",
       "      <td>330</td>\n",
       "    </tr>\n",
       "    <tr>\n",
       "      <th>6676675</th>\n",
       "      <td>37</td>\n",
       "      <td>17600</td>\n",
       "      <td>YoKids Squeezers Organic Low-Fat Yogurt, Straw...</td>\n",
       "      <td>1</td>\n",
       "      <td>344</td>\n",
       "    </tr>\n",
       "    <tr>\n",
       "      <th>100106</th>\n",
       "      <td>37</td>\n",
       "      <td>17794</td>\n",
       "      <td>Carrots</td>\n",
       "      <td>1</td>\n",
       "      <td>350</td>\n",
       "    </tr>\n",
       "    <tr>\n",
       "      <th>10198077</th>\n",
       "      <td>37</td>\n",
       "      <td>17948</td>\n",
       "      <td>Frozen Organic Wild Blueberries</td>\n",
       "      <td>1</td>\n",
       "      <td>357</td>\n",
       "    </tr>\n",
       "    <tr>\n",
       "      <th>17200205</th>\n",
       "      <td>37</td>\n",
       "      <td>18027</td>\n",
       "      <td>Ezekiel 4:9 Bread Organic Sprouted Whole Grain</td>\n",
       "      <td>1</td>\n",
       "      <td>361</td>\n",
       "    </tr>\n",
       "    <tr>\n",
       "      <th>18691297</th>\n",
       "      <td>37</td>\n",
       "      <td>18918</td>\n",
       "      <td>Organic Chopped Spinach</td>\n",
       "      <td>1</td>\n",
       "      <td>380</td>\n",
       "    </tr>\n",
       "    <tr>\n",
       "      <th>11411140</th>\n",
       "      <td>37</td>\n",
       "      <td>19048</td>\n",
       "      <td>Organic Butternut Squash</td>\n",
       "      <td>1</td>\n",
       "      <td>387</td>\n",
       "    </tr>\n",
       "    <tr>\n",
       "      <th>7674547</th>\n",
       "      <td>37</td>\n",
       "      <td>19057</td>\n",
       "      <td>Organic Large Extra Fancy Fuji Apple</td>\n",
       "      <td>1</td>\n",
       "      <td>389</td>\n",
       "    </tr>\n",
       "    <tr>\n",
       "      <th>3482738</th>\n",
       "      <td>37</td>\n",
       "      <td>20995</td>\n",
       "      <td>Organic Broccoli Florets</td>\n",
       "      <td>1</td>\n",
       "      <td>422</td>\n",
       "    </tr>\n",
       "    <tr>\n",
       "      <th>2875512</th>\n",
       "      <td>37</td>\n",
       "      <td>21137</td>\n",
       "      <td>Organic Strawberries</td>\n",
       "      <td>1</td>\n",
       "      <td>425</td>\n",
       "    </tr>\n",
       "    <tr>\n",
       "      <th>8876749</th>\n",
       "      <td>37</td>\n",
       "      <td>21616</td>\n",
       "      <td>Organic Baby Arugula</td>\n",
       "      <td>1</td>\n",
       "      <td>442</td>\n",
       "    </tr>\n",
       "    <tr>\n",
       "      <th>357827</th>\n",
       "      <td>37</td>\n",
       "      <td>21903</td>\n",
       "      <td>Organic Baby Spinach</td>\n",
       "      <td>1</td>\n",
       "      <td>445</td>\n",
       "    </tr>\n",
       "    <tr>\n",
       "      <th>4773926</th>\n",
       "      <td>37</td>\n",
       "      <td>21938</td>\n",
       "      <td>Green Bell Pepper</td>\n",
       "      <td>1</td>\n",
       "      <td>447</td>\n",
       "    </tr>\n",
       "    <tr>\n",
       "      <th>5068451</th>\n",
       "      <td>37</td>\n",
       "      <td>22825</td>\n",
       "      <td>Organic D'Anjou Pears</td>\n",
       "      <td>1</td>\n",
       "      <td>459</td>\n",
       "    </tr>\n",
       "    <tr>\n",
       "      <th>13998046</th>\n",
       "      <td>37</td>\n",
       "      <td>23165</td>\n",
       "      <td>Organic Leek</td>\n",
       "      <td>1</td>\n",
       "      <td>467</td>\n",
       "    </tr>\n",
       "    <tr>\n",
       "      <th>19775333</th>\n",
       "      <td>37</td>\n",
       "      <td>23579</td>\n",
       "      <td>Peanut Butter Chocolate Chip Fruit &amp; Nut Food Bar</td>\n",
       "      <td>1</td>\n",
       "      <td>479</td>\n",
       "    </tr>\n",
       "    <tr>\n",
       "      <th>1888042</th>\n",
       "      <td>37</td>\n",
       "      <td>24852</td>\n",
       "      <td>Banana</td>\n",
       "      <td>1</td>\n",
       "      <td>504</td>\n",
       "    </tr>\n",
       "    <tr>\n",
       "      <th>18627627</th>\n",
       "      <td>37</td>\n",
       "      <td>25588</td>\n",
       "      <td>Seedless Small Watermelon</td>\n",
       "      <td>1</td>\n",
       "      <td>517</td>\n",
       "    </tr>\n",
       "    <tr>\n",
       "      <th>4338968</th>\n",
       "      <td>37</td>\n",
       "      <td>25931</td>\n",
       "      <td>Organic Baby Spinach Salad</td>\n",
       "      <td>1</td>\n",
       "      <td>526</td>\n",
       "    </tr>\n",
       "    <tr>\n",
       "      <th>8171608</th>\n",
       "      <td>37</td>\n",
       "      <td>26209</td>\n",
       "      <td>Limes</td>\n",
       "      <td>1</td>\n",
       "      <td>532</td>\n",
       "    </tr>\n",
       "    <tr>\n",
       "      <th>8811357</th>\n",
       "      <td>37</td>\n",
       "      <td>26369</td>\n",
       "      <td>Organic Roma Tomato</td>\n",
       "      <td>1</td>\n",
       "      <td>536</td>\n",
       "    </tr>\n",
       "  </tbody>\n",
       "</table>\n",
       "</div>"
      ],
      "text/plain": [
       "          user_id  product_id  \\\n",
       "20103043       18        4461   \n",
       "15174494       18        5450   \n",
       "7098624        18        5876   \n",
       "4483330        18        8518   \n",
       "587782         18       17461   \n",
       "4698597        18       21019   \n",
       "2762349        18       21137   \n",
       "17431079       18       22888   \n",
       "10491102       18       24830   \n",
       "8142399        18       26209   \n",
       "2402823        18       31717   \n",
       "11926926       18       34126   \n",
       "19160225       18       38739   \n",
       "13825078       18       40723   \n",
       "13670127       37         651   \n",
       "5502481        37        1158   \n",
       "23218589       37        2314   \n",
       "23907602       37        3481   \n",
       "23537898       37        4367   \n",
       "14051486       37        5134   \n",
       "7443471        37        7021   \n",
       "12138595       37        8239   \n",
       "4419916        37        8518   \n",
       "11335564       37        9839   \n",
       "16934756       37       10305   \n",
       "15670393       37       12099   \n",
       "22822752       37       13431   \n",
       "13395574       37       16185   \n",
       "6279092        37       16349   \n",
       "18007198       37       16759   \n",
       "6676675        37       17600   \n",
       "100106         37       17794   \n",
       "10198077       37       17948   \n",
       "17200205       37       18027   \n",
       "18691297       37       18918   \n",
       "11411140       37       19048   \n",
       "7674547        37       19057   \n",
       "3482738        37       20995   \n",
       "2875512        37       21137   \n",
       "8876749        37       21616   \n",
       "357827         37       21903   \n",
       "4773926        37       21938   \n",
       "5068451        37       22825   \n",
       "13998046       37       23165   \n",
       "19775333       37       23579   \n",
       "1888042        37       24852   \n",
       "18627627       37       25588   \n",
       "4338968        37       25931   \n",
       "8171608        37       26209   \n",
       "8811357        37       26369   \n",
       "\n",
       "                                               product_name  user  item  \n",
       "20103043         Organic Raw Unfiltered Apple Cider Vinegar     0    72  \n",
       "15174494                                 Small Hass Avocado     0   101  \n",
       "7098624                                       Organic Lemon     0   115  \n",
       "4483330                                   Organic Red Onion     0   167  \n",
       "587782    Air Chilled Organic Boneless Skinless Chicken ...     0   343  \n",
       "4698597                           Roasted Red Pepper Hummus     0   424  \n",
       "2762349                                Organic Strawberries     0   425  \n",
       "17431079                               90% Lean Ground Beef     0   461  \n",
       "10491102                                    Organic Romaine     0   500  \n",
       "8142399                                               Limes     0   532  \n",
       "2402823                                    Organic Cilantro     0   637  \n",
       "11926926                      Organic Italian Parsley Bunch     0   686  \n",
       "19160225                                       Hass Avocado     0   767  \n",
       "13825078                         Organic Cripps Pink Apples     0   815  \n",
       "13670127                              Organic Salted Butter     1    10  \n",
       "5502481                                        Mango Chunks     1    15  \n",
       "23218589                          Whole Milk Ricotta Cheese     1    36  \n",
       "23907602                                          Pineapple     1    55  \n",
       "23537898                 Garlic & Fine Herbs Gournay Cheese     1    70  \n",
       "14051486                  Organic Thompson Seedless Raisins     1    90  \n",
       "7443471                                Organic Tomato Paste     1   132  \n",
       "12138595                     Peanut Butter Creamy With Salt     1   160  \n",
       "4419916                                   Organic Red Onion     1   167  \n",
       "11335564                                   Organic Broccoli     1   193  \n",
       "16934756                                         Black Plum     1   200  \n",
       "15670393                                 Honey Greek Yogurt     1   235  \n",
       "22822752                                     Flaky Biscuits     1   264  \n",
       "13395574                               Sharp Cheddar Cheese     1   318  \n",
       "6279092                                        Organic Yams     1   324  \n",
       "18007198                               Organic Carrot Bunch     1   330  \n",
       "6676675   YoKids Squeezers Organic Low-Fat Yogurt, Straw...     1   344  \n",
       "100106                                              Carrots     1   350  \n",
       "10198077                    Frozen Organic Wild Blueberries     1   357  \n",
       "17200205     Ezekiel 4:9 Bread Organic Sprouted Whole Grain     1   361  \n",
       "18691297                            Organic Chopped Spinach     1   380  \n",
       "11411140                           Organic Butternut Squash     1   387  \n",
       "7674547                Organic Large Extra Fancy Fuji Apple     1   389  \n",
       "3482738                            Organic Broccoli Florets     1   422  \n",
       "2875512                                Organic Strawberries     1   425  \n",
       "8876749                                Organic Baby Arugula     1   442  \n",
       "357827                                 Organic Baby Spinach     1   445  \n",
       "4773926                                   Green Bell Pepper     1   447  \n",
       "5068451                               Organic D'Anjou Pears     1   459  \n",
       "13998046                                       Organic Leek     1   467  \n",
       "19775333  Peanut Butter Chocolate Chip Fruit & Nut Food Bar     1   479  \n",
       "1888042                                              Banana     1   504  \n",
       "18627627                          Seedless Small Watermelon     1   517  \n",
       "4338968                          Organic Baby Spinach Salad     1   526  \n",
       "8171608                                               Limes     1   532  \n",
       "8811357                                 Organic Roma Tomato     1   536  "
      ]
     },
     "execution_count": 6,
     "metadata": {},
     "output_type": "execute_result"
    }
   ],
   "source": [
    "transactions.sort_values(by=['user','item'],inplace=True)\n",
    "transactions.head(50)"
   ]
  },
  {
   "cell_type": "markdown",
   "metadata": {
    "slideshow": {
     "slide_type": "subslide"
    }
   },
   "source": [
    "# Split the ratings for train and test"
   ]
  },
  {
   "cell_type": "code",
   "execution_count": 7,
   "metadata": {
    "slideshow": {
     "slide_type": "-"
    }
   },
   "outputs": [],
   "source": [
    "from sklearn.model_selection import train_test_split\n",
    "train_data, test_data = train_test_split(transactions, test_size=0.2,random_state=3)"
   ]
  },
  {
   "cell_type": "markdown",
   "metadata": {
    "slideshow": {
     "slide_type": "subslide"
    }
   },
   "source": [
    "# Create user-item matrix from set of ratings"
   ]
  },
  {
   "cell_type": "code",
   "execution_count": 8,
   "metadata": {
    "slideshow": {
     "slide_type": "fragment"
    }
   },
   "outputs": [],
   "source": [
    "# We fill in the user item matrix for train and test set. \n",
    "train_data_matrix = np.zeros((n_users, n_items))\n",
    "for line in train_data.itertuples():\n",
    "    train_data_matrix[line.user, line.item] = 1\n",
    "\n",
    "test_data_matrix = np.zeros((n_users, n_items))\n",
    "for line in test_data.itertuples():\n",
    "    test_data_matrix[line.user, line.item] = 1"
   ]
  },
  {
   "cell_type": "markdown",
   "metadata": {
    "slideshow": {
     "slide_type": "subslide"
    }
   },
   "source": [
    "# Determine how sparse/dense the train matrix is"
   ]
  },
  {
   "cell_type": "code",
   "execution_count": 9,
   "metadata": {
    "slideshow": {
     "slide_type": "fragment"
    }
   },
   "outputs": [],
   "source": [
    "# your code:\n"
   ]
  },
  {
   "cell_type": "markdown",
   "metadata": {
    "slideshow": {
     "slide_type": "slide"
    }
   },
   "source": [
    "# Calculate cosine simularity matrices from the train set\n",
    "$\n",
    "s_u^{cos}(i_m,i_b)\n",
    " = \\frac{ i_m \\cdot i_b }{ \\left \\| i_m \\right \\| \\left \\| i_b \\right \\| }\n",
    " = \\frac{ \\sum x_{a,m} x_{a,b} }{ \\sqrt{ \\sum x_{a,m}^2 \\sum x_{a,b}^2 } }\n",
    "$\n",
    "\n",
    "$\n",
    "s_u^{cos}(u_k,u_a)\n",
    " = \\frac{ u_k \\cdot u_a }{ \\left \\| u_k \\right \\| \\left \\| u_a \\right \\| }\n",
    " = \\frac{ \\sum x_{k,m}x_{a,m} }{ \\sqrt{\\sum x_{k,m}^2\\sum x_{a,m}^2} }\n",
    "$\n",
    "\n",
    "Hint: checkout pairwise_distances from sklearn "
   ]
  },
  {
   "cell_type": "code",
   "execution_count": 10,
   "metadata": {
    "slideshow": {
     "slide_type": "fragment"
    }
   },
   "outputs": [],
   "source": [
    "# your code:\n"
   ]
  },
  {
   "cell_type": "markdown",
   "metadata": {
    "slideshow": {
     "slide_type": "slide"
    }
   },
   "source": [
    "# What 10 items are most similar to 'Organic Hass Avocado'?"
   ]
  },
  {
   "cell_type": "markdown",
   "metadata": {
    "slideshow": {
     "slide_type": "-"
    }
   },
   "source": [
    "<center><img src=\"resources/avocado.jpg\" width=\"600\"></center>"
   ]
  },
  {
   "cell_type": "code",
   "execution_count": 11,
   "metadata": {
    "scrolled": false,
    "slideshow": {
     "slide_type": "subslide"
    }
   },
   "outputs": [],
   "source": [
    "# your code:\n"
   ]
  },
  {
   "cell_type": "markdown",
   "metadata": {
    "slideshow": {
     "slide_type": "slide"
    }
   },
   "source": [
    "# Which products has user 10370 bought?"
   ]
  },
  {
   "cell_type": "code",
   "execution_count": 12,
   "metadata": {
    "slideshow": {
     "slide_type": "fragment"
    }
   },
   "outputs": [],
   "source": [
    "# your code:\n"
   ]
  },
  {
   "cell_type": "markdown",
   "metadata": {
    "slideshow": {
     "slide_type": "slide"
    }
   },
   "source": [
    "# Now it's time to predict using our item-to-item similarity matrix\n",
    "- A prediction can be made by (dot) multiplying the simularity matrix (#Items x #Items) by someone's profile (1 x #Items) <br>"
   ]
  },
  {
   "cell_type": "markdown",
   "metadata": {
    "slideshow": {
     "slide_type": "fragment"
    }
   },
   "source": [
    "$\n",
    "\\pmatrix{1.0 & 0.2 & 0.5 & 0.1 \\\\ \n",
    "         0.2 & 1.0 & 0.9 & 0.3 \\\\\n",
    "         0.5 & 0.9 & 1.0 & 0.3 \\\\\n",
    "         0.1 & 0.3 & 0.3 & 1.0} \\pmatrix{0 \\\\ 1 \\\\ 1 \\\\ 0}  = \n",
    "         \\pmatrix{0.7 \\\\ 1.9 \\\\ 1.9 \\\\ 0.6} \\rightarrow \\pmatrix{ \\#1 \\\\ \\texttt{not recommended} \\\\ \\texttt{not recommended} \\\\ \\#2}\n",
    "$"
   ]
  },
  {
   "cell_type": "markdown",
   "metadata": {
    "slideshow": {
     "slide_type": "fragment"
    }
   },
   "source": [
    "- Grab user 10370 from the train tranactions and predict 20 items to recommend to this user."
   ]
  },
  {
   "cell_type": "code",
   "execution_count": 13,
   "metadata": {
    "slideshow": {
     "slide_type": "subslide"
    }
   },
   "outputs": [],
   "source": [
    "# your code:\n"
   ]
  },
  {
   "cell_type": "markdown",
   "metadata": {
    "slideshow": {
     "slide_type": "slide"
    }
   },
   "source": [
    "# How well did you do?"
   ]
  },
  {
   "cell_type": "code",
   "execution_count": 14,
   "metadata": {
    "scrolled": true,
    "slideshow": {
     "slide_type": "fragment"
    }
   },
   "outputs": [],
   "source": [
    "# your code:\n"
   ]
  },
  {
   "cell_type": "markdown",
   "metadata": {
    "slideshow": {
     "slide_type": "fragment"
    }
   },
   "source": [
    "## Is this good?"
   ]
  },
  {
   "cell_type": "markdown",
   "metadata": {
    "slideshow": {
     "slide_type": "subslide"
    }
   },
   "source": [
    "# Metrics for recommendations"
   ]
  },
  {
   "cell_type": "markdown",
   "metadata": {
    "slideshow": {
     "slide_type": "fragment"
    }
   },
   "source": [
    "|||\n",
    "|-----------------:|-------------|--|\n",
    "| precision  | % of correct rec.    | dependent on k|\n",
    "| recall    | % of correct from test| dependent on k|\n",
    "| f1 score  | harmonic mean of precision and recall    | dependent on k |\n",
    "| mean average precision | front loading correct recommendations  | less dependend on k | \n",
    "| mean reciprical rank  | harmonic mean of rank |less dependent on k | \n",
    "|||"
   ]
  },
  {
   "cell_type": "markdown",
   "metadata": {
    "slideshow": {
     "slide_type": "fragment"
    }
   },
   "source": [
    "Calculate precision, recall and f1 score for k = 20 for user 10370"
   ]
  },
  {
   "cell_type": "code",
   "execution_count": 15,
   "metadata": {
    "slideshow": {
     "slide_type": "subslide"
    }
   },
   "outputs": [],
   "source": [
    "# your code:\n"
   ]
  },
  {
   "cell_type": "markdown",
   "metadata": {
    "slideshow": {
     "slide_type": "slide"
    }
   },
   "source": [
    "# Model-based recommender\n"
   ]
  },
  {
   "cell_type": "markdown",
   "metadata": {
    "slideshow": {
     "slide_type": "fragment"
    }
   },
   "source": [
    "* **Before**: Recommendations based on similarity."
   ]
  },
  {
   "cell_type": "markdown",
   "metadata": {
    "slideshow": {
     "slide_type": "fragment"
    }
   },
   "source": [
    "* **Now**: We model the observed interactions as the product of item features $x^{(i)}$ and user features $\\theta^{(u)}$, such that <br>\n",
    "$(\\theta^{(u)})^T x^{(i)} \\approx y^{(u,i)} $<br>\n",
    "holds for all items"
   ]
  },
  {
   "cell_type": "markdown",
   "metadata": {
    "slideshow": {
     "slide_type": "subslide"
    }
   },
   "source": [
    "<center><img src=\"resources/ALS.png\" width=\"900\"></center>"
   ]
  },
  {
   "cell_type": "markdown",
   "metadata": {
    "slideshow": {
     "slide_type": "fragment"
    }
   },
   "source": [
    "With the trained model, that is with the learned user and product features, we can then compute interactions for a given user and for unseen given products."
   ]
  },
  {
   "cell_type": "markdown",
   "metadata": {
    "slideshow": {
     "slide_type": "fragment"
    }
   },
   "source": [
    "### But what features to use?"
   ]
  },
  {
   "cell_type": "markdown",
   "metadata": {
    "slideshow": {
     "slide_type": "subslide"
    }
   },
   "source": [
    "## Motivation: content based recommendation\n",
    "<center><img src=\"resources/content.png\" width=\"700\"></center>"
   ]
  },
  {
   "cell_type": "markdown",
   "metadata": {
    "slideshow": {
     "slide_type": "skip"
    }
   },
   "source": [
    "## motivation: content based recommendation\n",
    "| Product \\ User| 0| 1| 2| 3|$|$| $x_1$ (organic)  | $x_2$ (vitamins) | $x_3$ (proteine) |$|$|item_vector | \n",
    "|:--------      |--|--|--|--|-  |----              |----   |---|--|----------------------------------------------|\n",
    "| Spaghetti     | 1    | 0  | 0     | 0    |$|$| 0.5 | 0.2 | 0.1 |$|$|$ i^{(0)}=\\pmatrix{ 0.5, 0.2, 0.1}$\n",
    "| ground beef   | 0    | 1  | 1     | 1    |$|$| 0.3 | 0.6 | 0.9 |$|$|$i^{(1)}=\\pmatrix{ 0.3, 0.6, 0.9}$\n",
    "| tomato        | 1    | 1  | 0     | 1    |$|$| 1   | 0.7 | 0.3 |$|$|$i^{(2)}=\\pmatrix{ 1.0, 0.7, 0.3}$\n",
    "| Bell pepper   | 1    | 1  | 1     | 1    |$|$| 1   | 0.9 | 0.4 |$|$|$i^{(3)}=\\pmatrix{ 1.0, 0.9, 0.4}$\n",
    "| White rice    | 0    | 1  | 1     | 0    |$|$| 0.5 | 0.1 | 0.1 |$|$|$i^{(4)}=\\pmatrix{ 0.5, 0.1, 0.1}$"
   ]
  },
  {
   "cell_type": "markdown",
   "metadata": {
    "slideshow": {
     "slide_type": "fragment"
    }
   },
   "source": [
    "* Given $x^{(i)}$ we can optimize for user vectors, $\\theta^{(u)}$, such that when multiplied with the item vectors, we best approximate the observed purchases $y^{(u,i)}$. \n",
    "* We can do this by solving:<br>\n",
    "$\n",
    "\\underset{\\theta^{(u)}}{\\min{}}\n",
    "\\frac{1}{2} \\sum_{j:r(i,j)=1} ((\\theta^{(j)})^T x^{(i)} - y^{(i,j)})^2  + \n",
    "\\frac{\\lambda}{2} \\sum_{k=1}^n (\\theta_k^{(u)})^2\n",
    "$"
   ]
  },
  {
   "cell_type": "markdown",
   "metadata": {
    "slideshow": {
     "slide_type": "fragment"
    }
   },
   "source": [
    "* However, are the features that we used optimal to explain the observed interactions?\n",
    "* Subsequently, given user vectors $\\theta^{(u)}$ optimize for item vectors $x^{(i)}$\n",
    "* Alternating Least Squares: \n",
    "$\\theta \\rightarrow x \\rightarrow \\theta \\rightarrow x  \\rightarrow \\theta \\rightarrow x\\rightarrow \\dots$"
   ]
  },
  {
   "cell_type": "markdown",
   "metadata": {
    "slideshow": {
     "slide_type": "fragment"
    }
   },
   "source": [
    "* There exist many packages that implement this algorithm, for example `implicit`"
   ]
  },
  {
   "cell_type": "markdown",
   "metadata": {
    "slideshow": {
     "slide_type": "slide"
    }
   },
   "source": [
    "# Neural network based models"
   ]
  },
  {
   "cell_type": "markdown",
   "metadata": {},
   "source": [
    "* Recently, advanced deep learning frameworks\n",
    "* More freedom with development\n",
    "* Better training possibilities"
   ]
  },
  {
   "cell_type": "markdown",
   "metadata": {
    "slideshow": {
     "slide_type": "subslide"
    }
   },
   "source": [
    "## Youtube Recommender"
   ]
  },
  {
   "cell_type": "markdown",
   "metadata": {
    "slideshow": {
     "slide_type": "-"
    }
   },
   "source": [
    "<center><img src=\"resources/neuralnet.png\" width=\"600\"></center>"
   ]
  },
  {
   "cell_type": "markdown",
   "metadata": {
    "slideshow": {
     "slide_type": "slide"
    }
   },
   "source": [
    "# Conclusion"
   ]
  },
  {
   "cell_type": "markdown",
   "metadata": {
    "slideshow": {
     "slide_type": "subslide"
    }
   },
   "source": [
    "* Recommendations everywhere\n",
    "* Simple algorithms work well\n",
    "* Trend to use implicit feedback only\n",
    "* Active research area, especially focussed on deep learning techniques"
   ]
  }
 ],
 "metadata": {
  "kernelspec": {
   "display_name": "Python 3",
   "language": "python",
   "name": "python3"
  },
  "language_info": {
   "codemirror_mode": {
    "name": "ipython",
    "version": 3
   },
   "file_extension": ".py",
   "mimetype": "text/x-python",
   "name": "python",
   "nbconvert_exporter": "python",
   "pygments_lexer": "ipython3",
   "version": "3.6.1"
  }
 },
 "nbformat": 4,
 "nbformat_minor": 2
}
