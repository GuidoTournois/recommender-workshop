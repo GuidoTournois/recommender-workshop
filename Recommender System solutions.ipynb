{
 "cells": [
  {
   "cell_type": "code",
   "execution_count": 1,
   "metadata": {},
   "outputs": [
    {
     "data": {
      "text/html": [
       "<style>\n",
       ".reveal .rendered_html table, .reveal .rendered_html th,.reveal .rendered_html tr,.reveal .rendered_html td {\n",
       "     font-size: 100%;\n",
       "}\n",
       "</style>"
      ],
      "text/plain": [
       "<IPython.core.display.HTML object>"
      ]
     },
     "metadata": {},
     "output_type": "display_data"
    }
   ],
   "source": [
    "%%html\n",
    "<style>\n",
    ".reveal .rendered_html table, .reveal .rendered_html th,.reveal .rendered_html tr,.reveal .rendered_html td {\n",
    "     font-size: 100%;\n",
    "}\n",
    "</style>"
   ]
  },
  {
   "cell_type": "markdown",
   "metadata": {
    "slideshow": {
     "slide_type": "slide"
    }
   },
   "source": [
    "# Introduction To Recommender Systems"
   ]
  },
  {
   "cell_type": "markdown",
   "metadata": {
    "slideshow": {
     "slide_type": "fragment"
    }
   },
   "source": [
    "![title](resources/user_to_user.jpg)"
   ]
  },
  {
   "cell_type": "markdown",
   "metadata": {
    "slideshow": {
     "slide_type": "slide"
    }
   },
   "source": [
    "# Goal of recommender systems"
   ]
  },
  {
   "cell_type": "markdown",
   "metadata": {
    "slideshow": {
     "slide_type": "fragment"
    }
   },
   "source": [
    "> *to predict the \"rating\" or \"preference\" a user would give to an (unseen) item*<br>"
   ]
  },
  {
   "cell_type": "markdown",
   "metadata": {
    "slideshow": {
     "slide_type": "subslide"
    }
   },
   "source": [
    "<center><img src=\"https://media.giphy.com/media/3pzLJifxEvLpe/giphy.gif\" width=\"1000\"></center>"
   ]
  },
  {
   "cell_type": "markdown",
   "metadata": {
    "slideshow": {
     "slide_type": "subslide"
    }
   },
   "source": [
    "<center><img src=\"resources/Example.png\" width=\"800\"></center>"
   ]
  },
  {
   "cell_type": "markdown",
   "metadata": {
    "slideshow": {
     "slide_type": "fragment"
    }
   },
   "source": [
    "What rate do you guess that user 1 gives item 3?"
   ]
  },
  {
   "cell_type": "markdown",
   "metadata": {
    "slideshow": {
     "slide_type": "slide"
    }
   },
   "source": [
    "##  Technology evolution of recommenders\n",
    "<center><img src=\"resources/history.png\" height=\"500\"></center>"
   ]
  },
  {
   "cell_type": "markdown",
   "metadata": {
    "slideshow": {
     "slide_type": "subslide"
    }
   },
   "source": [
    "## Content-based recommendation\n",
    "<center><img src=\"resources/contentbased.png\" height=\"500\"></center>"
   ]
  },
  {
   "cell_type": "markdown",
   "metadata": {
    "slideshow": {
     "slide_type": "subslide"
    }
   },
   "source": [
    "## Collaborative Filtering recommendation engine\n",
    "<center><img src=\"resources/CF.png\" width=\"800\"></center>"
   ]
  },
  {
   "cell_type": "markdown",
   "metadata": {
    "slideshow": {
     "slide_type": "slide"
    }
   },
   "source": [
    "##  Technology evolution of recommenders\n",
    "<center><img src=\"resources/history.png\" height=\"500\"></center>"
   ]
  },
  {
   "cell_type": "markdown",
   "metadata": {
    "slideshow": {
     "slide_type": "slide"
    }
   },
   "source": [
    "##  Collaborative Filtering Methods\n",
    "- User-to-User Based: Users who are similar to you also liked ...\n",
    "- Item-to-Item Based: Users who liked this item also liked... \n"
   ]
  },
  {
   "cell_type": "markdown",
   "metadata": {
    "slideshow": {
     "slide_type": "subslide"
    }
   },
   "source": [
    "## User-to-User based\n",
    "<center><img src=\"resources/user-based.png\" height=\"700\"></center>"
   ]
  },
  {
   "cell_type": "markdown",
   "metadata": {
    "slideshow": {
     "slide_type": "subslide"
    }
   },
   "source": [
    "## Item-to-Item based\n",
    "<center><img src=\"resources/item-based.png\" height=\"700\"></center>"
   ]
  },
  {
   "cell_type": "markdown",
   "metadata": {
    "slideshow": {
     "slide_type": "subslide"
    }
   },
   "source": [
    "# Typical User-Item Matrix \n",
    "- The matrix contains either explicit (ratings) or implicit feedback (bought/clicked/viewed)\n",
    "<img src=\"resources/BLOG_CCA_8.png\" width=\"1000\">\n"
   ]
  },
  {
   "cell_type": "markdown",
   "metadata": {
    "slideshow": {
     "slide_type": "subslide"
    }
   },
   "source": [
    "# User-to-User Simularity\n",
    "<center><img src=\"resources/BLOG_CCA_11.png\" width=\"600\"></center>"
   ]
  },
  {
   "cell_type": "markdown",
   "metadata": {
    "slideshow": {
     "slide_type": "subslide"
    }
   },
   "source": [
    "# Item-to-Item Simularity\n",
    "\n",
    "<center><img src=\"resources/BLOG_CCA_10.png\" width=\"600\"></center>"
   ]
  },
  {
   "cell_type": "markdown",
   "metadata": {
    "slideshow": {
     "slide_type": "subslide"
    }
   },
   "source": [
    "## Similarity metrics used in recommendation engines\n",
    "* Cosine distance <br>\n",
    "$\n",
    "d^{cosine}(\\mathbf{x}_a,\\mathbf{x}_b)\n",
    " = \\frac{ \\mathbf{x}_a \\cdot \\mathbf{x}_b }{ \\left \\| \\mathbf{x}_a \\right \\| \\left \\| \\mathbf{x}_b \\right \\| }\n",
    " = \\frac{ \\sum_{i=1}^k x_{a,i}\\cdot x_{b,i} }{\\sqrt{\\sum_{i=1}^k x_{a,i}^2 } \\sqrt{\\sum_{i=1}^k x_{b,i}^2} }\n",
    "$\n",
    "* Pearson correlation distance<br>\n",
    "$\n",
    "d^{pearson}(\\mathbf{x}_a,\\mathbf{x}_b)\n",
    " = \\frac{ \\sum_{i=1}^k (x_{a,i} - \\bar{\\mathbf{x}}_a) \\cdot (x_{b,i} - \\bar{\\mathbf{x}}_b) }{\\sqrt{\\sum_{i=1}^k (x_{a,i} - \\bar{\\mathbf{x}}_a)^2 } \\sqrt{\\sum_{i=1}^k (x_{b,i} - \\bar{\\mathbf{x}}_b)^2} }\n",
    "$\n",
    "* Euclidean distance\n",
    "* Manhattan distance\n",
    "* Jaccard distance\n"
   ]
  },
  {
   "cell_type": "markdown",
   "metadata": {
    "slideshow": {
     "slide_type": "slide"
    }
   },
   "source": [
    "# Hands on a transaction dataset"
   ]
  },
  {
   "cell_type": "markdown",
   "metadata": {
    "slideshow": {
     "slide_type": "subslide"
    }
   },
   "source": [
    "## Read in the transactional data"
   ]
  },
  {
   "cell_type": "code",
   "execution_count": 2,
   "metadata": {
    "slideshow": {
     "slide_type": "-"
    }
   },
   "outputs": [
    {
     "name": "stdout",
     "output_type": "stream",
     "text": [
      "Number of users = 5000 | Number of products = 1000\n",
      "Number of rows in transactional data = 453836\n"
     ]
    }
   ],
   "source": [
    "import numpy as np, pandas as pd\n",
    "transactions = pd.read_pickle('data/transactions.pkl')\n",
    "\n",
    "n_users = transactions.user_id.unique().shape[0]\n",
    "n_items = transactions.product_id.unique().shape[0]\n",
    "print('Number of users = ' + str(n_users) + ' | Number of products = ' + str(n_items))\n",
    "print(f'Number of rows in transactional data = {transactions.shape[0]}')"
   ]
  },
  {
   "cell_type": "code",
   "execution_count": 3,
   "metadata": {
    "scrolled": true,
    "slideshow": {
     "slide_type": "subslide"
    }
   },
   "outputs": [
    {
     "data": {
      "text/html": [
       "<div>\n",
       "<style>\n",
       "    .dataframe thead tr:only-child th {\n",
       "        text-align: right;\n",
       "    }\n",
       "\n",
       "    .dataframe thead th {\n",
       "        text-align: left;\n",
       "    }\n",
       "\n",
       "    .dataframe tbody tr th {\n",
       "        vertical-align: top;\n",
       "    }\n",
       "</style>\n",
       "<table border=\"1\" class=\"dataframe\">\n",
       "  <thead>\n",
       "    <tr style=\"text-align: right;\">\n",
       "      <th></th>\n",
       "      <th>user_id</th>\n",
       "      <th>order_id</th>\n",
       "      <th>product_id</th>\n",
       "      <th>product_name</th>\n",
       "    </tr>\n",
       "  </thead>\n",
       "  <tbody>\n",
       "    <tr>\n",
       "      <th>4698597</th>\n",
       "      <td>18</td>\n",
       "      <td>1020460</td>\n",
       "      <td>21019</td>\n",
       "      <td>Roasted Red Pepper Hummus</td>\n",
       "    </tr>\n",
       "    <tr>\n",
       "      <th>2762349</th>\n",
       "      <td>18</td>\n",
       "      <td>1020460</td>\n",
       "      <td>21137</td>\n",
       "      <td>Organic Strawberries</td>\n",
       "    </tr>\n",
       "    <tr>\n",
       "      <th>10491102</th>\n",
       "      <td>18</td>\n",
       "      <td>1020460</td>\n",
       "      <td>24830</td>\n",
       "      <td>Organic Romaine</td>\n",
       "    </tr>\n",
       "    <tr>\n",
       "      <th>8142399</th>\n",
       "      <td>18</td>\n",
       "      <td>1020460</td>\n",
       "      <td>26209</td>\n",
       "      <td>Limes</td>\n",
       "    </tr>\n",
       "    <tr>\n",
       "      <th>11926926</th>\n",
       "      <td>18</td>\n",
       "      <td>1020460</td>\n",
       "      <td>34126</td>\n",
       "      <td>Organic Italian Parsley Bunch</td>\n",
       "    </tr>\n",
       "    <tr>\n",
       "      <th>19160225</th>\n",
       "      <td>18</td>\n",
       "      <td>1020460</td>\n",
       "      <td>38739</td>\n",
       "      <td>Hass Avocado</td>\n",
       "    </tr>\n",
       "    <tr>\n",
       "      <th>15174494</th>\n",
       "      <td>18</td>\n",
       "      <td>2461523</td>\n",
       "      <td>5450</td>\n",
       "      <td>Small Hass Avocado</td>\n",
       "    </tr>\n",
       "    <tr>\n",
       "      <th>4483330</th>\n",
       "      <td>18</td>\n",
       "      <td>2461523</td>\n",
       "      <td>8518</td>\n",
       "      <td>Organic Red Onion</td>\n",
       "    </tr>\n",
       "    <tr>\n",
       "      <th>587782</th>\n",
       "      <td>18</td>\n",
       "      <td>2461523</td>\n",
       "      <td>17461</td>\n",
       "      <td>Air Chilled Organic Boneless Skinless Chicken ...</td>\n",
       "    </tr>\n",
       "    <tr>\n",
       "      <th>2955579</th>\n",
       "      <td>18</td>\n",
       "      <td>2461523</td>\n",
       "      <td>21137</td>\n",
       "      <td>Organic Strawberries</td>\n",
       "    </tr>\n",
       "    <tr>\n",
       "      <th>17431079</th>\n",
       "      <td>18</td>\n",
       "      <td>2461523</td>\n",
       "      <td>22888</td>\n",
       "      <td>90% Lean Ground Beef</td>\n",
       "    </tr>\n",
       "    <tr>\n",
       "      <th>13825078</th>\n",
       "      <td>18</td>\n",
       "      <td>2780889</td>\n",
       "      <td>40723</td>\n",
       "      <td>Organic Cripps Pink Apples</td>\n",
       "    </tr>\n",
       "    <tr>\n",
       "      <th>20103043</th>\n",
       "      <td>18</td>\n",
       "      <td>3106101</td>\n",
       "      <td>4461</td>\n",
       "      <td>Organic Raw Unfiltered Apple Cider Vinegar</td>\n",
       "    </tr>\n",
       "    <tr>\n",
       "      <th>7098624</th>\n",
       "      <td>18</td>\n",
       "      <td>3106101</td>\n",
       "      <td>5876</td>\n",
       "      <td>Organic Lemon</td>\n",
       "    </tr>\n",
       "    <tr>\n",
       "      <th>2402823</th>\n",
       "      <td>18</td>\n",
       "      <td>3106101</td>\n",
       "      <td>31717</td>\n",
       "      <td>Organic Cilantro</td>\n",
       "    </tr>\n",
       "    <tr>\n",
       "      <th>5502481</th>\n",
       "      <td>37</td>\n",
       "      <td>86313</td>\n",
       "      <td>1158</td>\n",
       "      <td>Mango Chunks</td>\n",
       "    </tr>\n",
       "    <tr>\n",
       "      <th>100106</th>\n",
       "      <td>37</td>\n",
       "      <td>86313</td>\n",
       "      <td>17794</td>\n",
       "      <td>Carrots</td>\n",
       "    </tr>\n",
       "    <tr>\n",
       "      <th>10198077</th>\n",
       "      <td>37</td>\n",
       "      <td>86313</td>\n",
       "      <td>17948</td>\n",
       "      <td>Frozen Organic Wild Blueberries</td>\n",
       "    </tr>\n",
       "    <tr>\n",
       "      <th>11769653</th>\n",
       "      <td>37</td>\n",
       "      <td>86313</td>\n",
       "      <td>28278</td>\n",
       "      <td>Organic Penne Rigate</td>\n",
       "    </tr>\n",
       "    <tr>\n",
       "      <th>15840391</th>\n",
       "      <td>37</td>\n",
       "      <td>86313</td>\n",
       "      <td>45200</td>\n",
       "      <td>Organic Cauliflower</td>\n",
       "    </tr>\n",
       "  </tbody>\n",
       "</table>\n",
       "</div>"
      ],
      "text/plain": [
       "          user_id  order_id  product_id  \\\n",
       "4698597        18   1020460       21019   \n",
       "2762349        18   1020460       21137   \n",
       "10491102       18   1020460       24830   \n",
       "8142399        18   1020460       26209   \n",
       "11926926       18   1020460       34126   \n",
       "19160225       18   1020460       38739   \n",
       "15174494       18   2461523        5450   \n",
       "4483330        18   2461523        8518   \n",
       "587782         18   2461523       17461   \n",
       "2955579        18   2461523       21137   \n",
       "17431079       18   2461523       22888   \n",
       "13825078       18   2780889       40723   \n",
       "20103043       18   3106101        4461   \n",
       "7098624        18   3106101        5876   \n",
       "2402823        18   3106101       31717   \n",
       "5502481        37     86313        1158   \n",
       "100106         37     86313       17794   \n",
       "10198077       37     86313       17948   \n",
       "11769653       37     86313       28278   \n",
       "15840391       37     86313       45200   \n",
       "\n",
       "                                               product_name  \n",
       "4698597                           Roasted Red Pepper Hummus  \n",
       "2762349                                Organic Strawberries  \n",
       "10491102                                    Organic Romaine  \n",
       "8142399                                               Limes  \n",
       "11926926                      Organic Italian Parsley Bunch  \n",
       "19160225                                       Hass Avocado  \n",
       "15174494                                 Small Hass Avocado  \n",
       "4483330                                   Organic Red Onion  \n",
       "587782    Air Chilled Organic Boneless Skinless Chicken ...  \n",
       "2955579                                Organic Strawberries  \n",
       "17431079                               90% Lean Ground Beef  \n",
       "13825078                         Organic Cripps Pink Apples  \n",
       "20103043         Organic Raw Unfiltered Apple Cider Vinegar  \n",
       "7098624                                       Organic Lemon  \n",
       "2402823                                    Organic Cilantro  \n",
       "5502481                                        Mango Chunks  \n",
       "100106                                              Carrots  \n",
       "10198077                    Frozen Organic Wild Blueberries  \n",
       "11769653                               Organic Penne Rigate  \n",
       "15840391                                Organic Cauliflower  "
      ]
     },
     "execution_count": 3,
     "metadata": {},
     "output_type": "execute_result"
    }
   ],
   "source": [
    "transactions.sort_values(by=['user_id','order_id','product_id'],inplace=True)\n",
    "transactions = transactions[['user_id','order_id','product_id','product_name']]\n",
    "transactions.head(20)"
   ]
  },
  {
   "cell_type": "markdown",
   "metadata": {
    "slideshow": {
     "slide_type": "subslide"
    }
   },
   "source": [
    "<center><img src=\"resources/simplify.jpg\" width=\"600\"></center>"
   ]
  },
  {
   "cell_type": "markdown",
   "metadata": {
    "slideshow": {
     "slide_type": "fragment"
    }
   },
   "source": [
    "### During this workshop, we do not look at frequency. Only, whether a user bought an item or not."
   ]
  },
  {
   "cell_type": "code",
   "execution_count": 4,
   "metadata": {
    "scrolled": true,
    "slideshow": {
     "slide_type": "subslide"
    }
   },
   "outputs": [],
   "source": [
    "transactions = transactions.drop('order_id',axis=1).drop_duplicates() \n",
    "# only keep single interactions"
   ]
  },
  {
   "cell_type": "code",
   "execution_count": 5,
   "metadata": {},
   "outputs": [
    {
     "data": {
      "text/html": [
       "<div>\n",
       "<style>\n",
       "    .dataframe thead tr:only-child th {\n",
       "        text-align: right;\n",
       "    }\n",
       "\n",
       "    .dataframe thead th {\n",
       "        text-align: left;\n",
       "    }\n",
       "\n",
       "    .dataframe tbody tr th {\n",
       "        vertical-align: top;\n",
       "    }\n",
       "</style>\n",
       "<table border=\"1\" class=\"dataframe\">\n",
       "  <thead>\n",
       "    <tr style=\"text-align: right;\">\n",
       "      <th></th>\n",
       "      <th>user_id</th>\n",
       "      <th>product_id</th>\n",
       "      <th>product_name</th>\n",
       "    </tr>\n",
       "  </thead>\n",
       "  <tbody>\n",
       "    <tr>\n",
       "      <th>4698597</th>\n",
       "      <td>18</td>\n",
       "      <td>21019</td>\n",
       "      <td>Roasted Red Pepper Hummus</td>\n",
       "    </tr>\n",
       "    <tr>\n",
       "      <th>2402823</th>\n",
       "      <td>18</td>\n",
       "      <td>31717</td>\n",
       "      <td>Organic Cilantro</td>\n",
       "    </tr>\n",
       "    <tr>\n",
       "      <th>7098624</th>\n",
       "      <td>18</td>\n",
       "      <td>5876</td>\n",
       "      <td>Organic Lemon</td>\n",
       "    </tr>\n",
       "    <tr>\n",
       "      <th>20103043</th>\n",
       "      <td>18</td>\n",
       "      <td>4461</td>\n",
       "      <td>Organic Raw Unfiltered Apple Cider Vinegar</td>\n",
       "    </tr>\n",
       "    <tr>\n",
       "      <th>17431079</th>\n",
       "      <td>18</td>\n",
       "      <td>22888</td>\n",
       "      <td>90% Lean Ground Beef</td>\n",
       "    </tr>\n",
       "  </tbody>\n",
       "</table>\n",
       "</div>"
      ],
      "text/plain": [
       "          user_id  product_id                                product_name\n",
       "4698597        18       21019                   Roasted Red Pepper Hummus\n",
       "2402823        18       31717                            Organic Cilantro\n",
       "7098624        18        5876                               Organic Lemon\n",
       "20103043       18        4461  Organic Raw Unfiltered Apple Cider Vinegar\n",
       "17431079       18       22888                        90% Lean Ground Beef"
      ]
     },
     "execution_count": 5,
     "metadata": {},
     "output_type": "execute_result"
    }
   ],
   "source": [
    "transactions.sort_values(by='user_id').head()"
   ]
  },
  {
   "cell_type": "markdown",
   "metadata": {
    "slideshow": {
     "slide_type": "subslide"
    }
   },
   "source": [
    "# Normalize user_id\n",
    "As we go to a sparse representation of the matrix later, we make the id's of both users and products range from 0 to n_users and n_items respectively. "
   ]
  },
  {
   "cell_type": "code",
   "execution_count": 6,
   "metadata": {
    "slideshow": {
     "slide_type": "fragment"
    }
   },
   "outputs": [],
   "source": [
    "from resources.tools import Normalizer\n",
    "user_normalizer = Normalizer(transactions.user_id.unique())\n",
    "transactions['user'] = user_normalizer.apply(transactions.user_id)\n",
    "\n",
    "item_normalizer = Normalizer(transactions.product_id.unique())\n",
    "transactions['item'] = item_normalizer.apply(transactions.product_id)"
   ]
  },
  {
   "cell_type": "code",
   "execution_count": 7,
   "metadata": {
    "slideshow": {
     "slide_type": "subslide"
    }
   },
   "outputs": [
    {
     "data": {
      "text/html": [
       "<div>\n",
       "<style>\n",
       "    .dataframe thead tr:only-child th {\n",
       "        text-align: right;\n",
       "    }\n",
       "\n",
       "    .dataframe thead th {\n",
       "        text-align: left;\n",
       "    }\n",
       "\n",
       "    .dataframe tbody tr th {\n",
       "        vertical-align: top;\n",
       "    }\n",
       "</style>\n",
       "<table border=\"1\" class=\"dataframe\">\n",
       "  <thead>\n",
       "    <tr style=\"text-align: right;\">\n",
       "      <th></th>\n",
       "      <th>user_id</th>\n",
       "      <th>product_id</th>\n",
       "      <th>product_name</th>\n",
       "      <th>user</th>\n",
       "      <th>item</th>\n",
       "    </tr>\n",
       "  </thead>\n",
       "  <tbody>\n",
       "    <tr>\n",
       "      <th>20103043</th>\n",
       "      <td>18</td>\n",
       "      <td>4461</td>\n",
       "      <td>Organic Raw Unfiltered Apple Cider Vinegar</td>\n",
       "      <td>0</td>\n",
       "      <td>72</td>\n",
       "    </tr>\n",
       "    <tr>\n",
       "      <th>15174494</th>\n",
       "      <td>18</td>\n",
       "      <td>5450</td>\n",
       "      <td>Small Hass Avocado</td>\n",
       "      <td>0</td>\n",
       "      <td>101</td>\n",
       "    </tr>\n",
       "    <tr>\n",
       "      <th>7098624</th>\n",
       "      <td>18</td>\n",
       "      <td>5876</td>\n",
       "      <td>Organic Lemon</td>\n",
       "      <td>0</td>\n",
       "      <td>115</td>\n",
       "    </tr>\n",
       "    <tr>\n",
       "      <th>4483330</th>\n",
       "      <td>18</td>\n",
       "      <td>8518</td>\n",
       "      <td>Organic Red Onion</td>\n",
       "      <td>0</td>\n",
       "      <td>167</td>\n",
       "    </tr>\n",
       "    <tr>\n",
       "      <th>587782</th>\n",
       "      <td>18</td>\n",
       "      <td>17461</td>\n",
       "      <td>Air Chilled Organic Boneless Skinless Chicken ...</td>\n",
       "      <td>0</td>\n",
       "      <td>343</td>\n",
       "    </tr>\n",
       "    <tr>\n",
       "      <th>4698597</th>\n",
       "      <td>18</td>\n",
       "      <td>21019</td>\n",
       "      <td>Roasted Red Pepper Hummus</td>\n",
       "      <td>0</td>\n",
       "      <td>424</td>\n",
       "    </tr>\n",
       "    <tr>\n",
       "      <th>2762349</th>\n",
       "      <td>18</td>\n",
       "      <td>21137</td>\n",
       "      <td>Organic Strawberries</td>\n",
       "      <td>0</td>\n",
       "      <td>425</td>\n",
       "    </tr>\n",
       "    <tr>\n",
       "      <th>17431079</th>\n",
       "      <td>18</td>\n",
       "      <td>22888</td>\n",
       "      <td>90% Lean Ground Beef</td>\n",
       "      <td>0</td>\n",
       "      <td>461</td>\n",
       "    </tr>\n",
       "    <tr>\n",
       "      <th>10491102</th>\n",
       "      <td>18</td>\n",
       "      <td>24830</td>\n",
       "      <td>Organic Romaine</td>\n",
       "      <td>0</td>\n",
       "      <td>500</td>\n",
       "    </tr>\n",
       "    <tr>\n",
       "      <th>8142399</th>\n",
       "      <td>18</td>\n",
       "      <td>26209</td>\n",
       "      <td>Limes</td>\n",
       "      <td>0</td>\n",
       "      <td>532</td>\n",
       "    </tr>\n",
       "    <tr>\n",
       "      <th>2402823</th>\n",
       "      <td>18</td>\n",
       "      <td>31717</td>\n",
       "      <td>Organic Cilantro</td>\n",
       "      <td>0</td>\n",
       "      <td>637</td>\n",
       "    </tr>\n",
       "    <tr>\n",
       "      <th>11926926</th>\n",
       "      <td>18</td>\n",
       "      <td>34126</td>\n",
       "      <td>Organic Italian Parsley Bunch</td>\n",
       "      <td>0</td>\n",
       "      <td>686</td>\n",
       "    </tr>\n",
       "    <tr>\n",
       "      <th>19160225</th>\n",
       "      <td>18</td>\n",
       "      <td>38739</td>\n",
       "      <td>Hass Avocado</td>\n",
       "      <td>0</td>\n",
       "      <td>767</td>\n",
       "    </tr>\n",
       "    <tr>\n",
       "      <th>13825078</th>\n",
       "      <td>18</td>\n",
       "      <td>40723</td>\n",
       "      <td>Organic Cripps Pink Apples</td>\n",
       "      <td>0</td>\n",
       "      <td>815</td>\n",
       "    </tr>\n",
       "    <tr>\n",
       "      <th>13670127</th>\n",
       "      <td>37</td>\n",
       "      <td>651</td>\n",
       "      <td>Organic Salted Butter</td>\n",
       "      <td>1</td>\n",
       "      <td>10</td>\n",
       "    </tr>\n",
       "    <tr>\n",
       "      <th>5502481</th>\n",
       "      <td>37</td>\n",
       "      <td>1158</td>\n",
       "      <td>Mango Chunks</td>\n",
       "      <td>1</td>\n",
       "      <td>15</td>\n",
       "    </tr>\n",
       "    <tr>\n",
       "      <th>23218589</th>\n",
       "      <td>37</td>\n",
       "      <td>2314</td>\n",
       "      <td>Whole Milk Ricotta Cheese</td>\n",
       "      <td>1</td>\n",
       "      <td>36</td>\n",
       "    </tr>\n",
       "    <tr>\n",
       "      <th>23907602</th>\n",
       "      <td>37</td>\n",
       "      <td>3481</td>\n",
       "      <td>Pineapple</td>\n",
       "      <td>1</td>\n",
       "      <td>55</td>\n",
       "    </tr>\n",
       "    <tr>\n",
       "      <th>23537898</th>\n",
       "      <td>37</td>\n",
       "      <td>4367</td>\n",
       "      <td>Garlic &amp; Fine Herbs Gournay Cheese</td>\n",
       "      <td>1</td>\n",
       "      <td>70</td>\n",
       "    </tr>\n",
       "    <tr>\n",
       "      <th>14051486</th>\n",
       "      <td>37</td>\n",
       "      <td>5134</td>\n",
       "      <td>Organic Thompson Seedless Raisins</td>\n",
       "      <td>1</td>\n",
       "      <td>90</td>\n",
       "    </tr>\n",
       "    <tr>\n",
       "      <th>7443471</th>\n",
       "      <td>37</td>\n",
       "      <td>7021</td>\n",
       "      <td>Organic Tomato Paste</td>\n",
       "      <td>1</td>\n",
       "      <td>132</td>\n",
       "    </tr>\n",
       "    <tr>\n",
       "      <th>12138595</th>\n",
       "      <td>37</td>\n",
       "      <td>8239</td>\n",
       "      <td>Peanut Butter Creamy With Salt</td>\n",
       "      <td>1</td>\n",
       "      <td>160</td>\n",
       "    </tr>\n",
       "    <tr>\n",
       "      <th>4419916</th>\n",
       "      <td>37</td>\n",
       "      <td>8518</td>\n",
       "      <td>Organic Red Onion</td>\n",
       "      <td>1</td>\n",
       "      <td>167</td>\n",
       "    </tr>\n",
       "    <tr>\n",
       "      <th>11335564</th>\n",
       "      <td>37</td>\n",
       "      <td>9839</td>\n",
       "      <td>Organic Broccoli</td>\n",
       "      <td>1</td>\n",
       "      <td>193</td>\n",
       "    </tr>\n",
       "    <tr>\n",
       "      <th>16934756</th>\n",
       "      <td>37</td>\n",
       "      <td>10305</td>\n",
       "      <td>Black Plum</td>\n",
       "      <td>1</td>\n",
       "      <td>200</td>\n",
       "    </tr>\n",
       "    <tr>\n",
       "      <th>15670393</th>\n",
       "      <td>37</td>\n",
       "      <td>12099</td>\n",
       "      <td>Honey Greek Yogurt</td>\n",
       "      <td>1</td>\n",
       "      <td>235</td>\n",
       "    </tr>\n",
       "    <tr>\n",
       "      <th>22822752</th>\n",
       "      <td>37</td>\n",
       "      <td>13431</td>\n",
       "      <td>Flaky Biscuits</td>\n",
       "      <td>1</td>\n",
       "      <td>264</td>\n",
       "    </tr>\n",
       "    <tr>\n",
       "      <th>13395574</th>\n",
       "      <td>37</td>\n",
       "      <td>16185</td>\n",
       "      <td>Sharp Cheddar Cheese</td>\n",
       "      <td>1</td>\n",
       "      <td>318</td>\n",
       "    </tr>\n",
       "    <tr>\n",
       "      <th>6279092</th>\n",
       "      <td>37</td>\n",
       "      <td>16349</td>\n",
       "      <td>Organic Yams</td>\n",
       "      <td>1</td>\n",
       "      <td>324</td>\n",
       "    </tr>\n",
       "    <tr>\n",
       "      <th>18007198</th>\n",
       "      <td>37</td>\n",
       "      <td>16759</td>\n",
       "      <td>Organic Carrot Bunch</td>\n",
       "      <td>1</td>\n",
       "      <td>330</td>\n",
       "    </tr>\n",
       "    <tr>\n",
       "      <th>6676675</th>\n",
       "      <td>37</td>\n",
       "      <td>17600</td>\n",
       "      <td>YoKids Squeezers Organic Low-Fat Yogurt, Straw...</td>\n",
       "      <td>1</td>\n",
       "      <td>344</td>\n",
       "    </tr>\n",
       "    <tr>\n",
       "      <th>100106</th>\n",
       "      <td>37</td>\n",
       "      <td>17794</td>\n",
       "      <td>Carrots</td>\n",
       "      <td>1</td>\n",
       "      <td>350</td>\n",
       "    </tr>\n",
       "    <tr>\n",
       "      <th>10198077</th>\n",
       "      <td>37</td>\n",
       "      <td>17948</td>\n",
       "      <td>Frozen Organic Wild Blueberries</td>\n",
       "      <td>1</td>\n",
       "      <td>357</td>\n",
       "    </tr>\n",
       "    <tr>\n",
       "      <th>17200205</th>\n",
       "      <td>37</td>\n",
       "      <td>18027</td>\n",
       "      <td>Ezekiel 4:9 Bread Organic Sprouted Whole Grain</td>\n",
       "      <td>1</td>\n",
       "      <td>361</td>\n",
       "    </tr>\n",
       "    <tr>\n",
       "      <th>18691297</th>\n",
       "      <td>37</td>\n",
       "      <td>18918</td>\n",
       "      <td>Organic Chopped Spinach</td>\n",
       "      <td>1</td>\n",
       "      <td>380</td>\n",
       "    </tr>\n",
       "    <tr>\n",
       "      <th>11411140</th>\n",
       "      <td>37</td>\n",
       "      <td>19048</td>\n",
       "      <td>Organic Butternut Squash</td>\n",
       "      <td>1</td>\n",
       "      <td>387</td>\n",
       "    </tr>\n",
       "    <tr>\n",
       "      <th>7674547</th>\n",
       "      <td>37</td>\n",
       "      <td>19057</td>\n",
       "      <td>Organic Large Extra Fancy Fuji Apple</td>\n",
       "      <td>1</td>\n",
       "      <td>389</td>\n",
       "    </tr>\n",
       "    <tr>\n",
       "      <th>3482738</th>\n",
       "      <td>37</td>\n",
       "      <td>20995</td>\n",
       "      <td>Organic Broccoli Florets</td>\n",
       "      <td>1</td>\n",
       "      <td>422</td>\n",
       "    </tr>\n",
       "    <tr>\n",
       "      <th>2875512</th>\n",
       "      <td>37</td>\n",
       "      <td>21137</td>\n",
       "      <td>Organic Strawberries</td>\n",
       "      <td>1</td>\n",
       "      <td>425</td>\n",
       "    </tr>\n",
       "    <tr>\n",
       "      <th>8876749</th>\n",
       "      <td>37</td>\n",
       "      <td>21616</td>\n",
       "      <td>Organic Baby Arugula</td>\n",
       "      <td>1</td>\n",
       "      <td>442</td>\n",
       "    </tr>\n",
       "    <tr>\n",
       "      <th>357827</th>\n",
       "      <td>37</td>\n",
       "      <td>21903</td>\n",
       "      <td>Organic Baby Spinach</td>\n",
       "      <td>1</td>\n",
       "      <td>445</td>\n",
       "    </tr>\n",
       "    <tr>\n",
       "      <th>4773926</th>\n",
       "      <td>37</td>\n",
       "      <td>21938</td>\n",
       "      <td>Green Bell Pepper</td>\n",
       "      <td>1</td>\n",
       "      <td>447</td>\n",
       "    </tr>\n",
       "    <tr>\n",
       "      <th>5068451</th>\n",
       "      <td>37</td>\n",
       "      <td>22825</td>\n",
       "      <td>Organic D'Anjou Pears</td>\n",
       "      <td>1</td>\n",
       "      <td>459</td>\n",
       "    </tr>\n",
       "    <tr>\n",
       "      <th>13998046</th>\n",
       "      <td>37</td>\n",
       "      <td>23165</td>\n",
       "      <td>Organic Leek</td>\n",
       "      <td>1</td>\n",
       "      <td>467</td>\n",
       "    </tr>\n",
       "    <tr>\n",
       "      <th>19775333</th>\n",
       "      <td>37</td>\n",
       "      <td>23579</td>\n",
       "      <td>Peanut Butter Chocolate Chip Fruit &amp; Nut Food Bar</td>\n",
       "      <td>1</td>\n",
       "      <td>479</td>\n",
       "    </tr>\n",
       "    <tr>\n",
       "      <th>1888042</th>\n",
       "      <td>37</td>\n",
       "      <td>24852</td>\n",
       "      <td>Banana</td>\n",
       "      <td>1</td>\n",
       "      <td>504</td>\n",
       "    </tr>\n",
       "    <tr>\n",
       "      <th>18627627</th>\n",
       "      <td>37</td>\n",
       "      <td>25588</td>\n",
       "      <td>Seedless Small Watermelon</td>\n",
       "      <td>1</td>\n",
       "      <td>517</td>\n",
       "    </tr>\n",
       "    <tr>\n",
       "      <th>4338968</th>\n",
       "      <td>37</td>\n",
       "      <td>25931</td>\n",
       "      <td>Organic Baby Spinach Salad</td>\n",
       "      <td>1</td>\n",
       "      <td>526</td>\n",
       "    </tr>\n",
       "    <tr>\n",
       "      <th>8171608</th>\n",
       "      <td>37</td>\n",
       "      <td>26209</td>\n",
       "      <td>Limes</td>\n",
       "      <td>1</td>\n",
       "      <td>532</td>\n",
       "    </tr>\n",
       "    <tr>\n",
       "      <th>8811357</th>\n",
       "      <td>37</td>\n",
       "      <td>26369</td>\n",
       "      <td>Organic Roma Tomato</td>\n",
       "      <td>1</td>\n",
       "      <td>536</td>\n",
       "    </tr>\n",
       "  </tbody>\n",
       "</table>\n",
       "</div>"
      ],
      "text/plain": [
       "          user_id  product_id  \\\n",
       "20103043       18        4461   \n",
       "15174494       18        5450   \n",
       "7098624        18        5876   \n",
       "4483330        18        8518   \n",
       "587782         18       17461   \n",
       "4698597        18       21019   \n",
       "2762349        18       21137   \n",
       "17431079       18       22888   \n",
       "10491102       18       24830   \n",
       "8142399        18       26209   \n",
       "2402823        18       31717   \n",
       "11926926       18       34126   \n",
       "19160225       18       38739   \n",
       "13825078       18       40723   \n",
       "13670127       37         651   \n",
       "5502481        37        1158   \n",
       "23218589       37        2314   \n",
       "23907602       37        3481   \n",
       "23537898       37        4367   \n",
       "14051486       37        5134   \n",
       "7443471        37        7021   \n",
       "12138595       37        8239   \n",
       "4419916        37        8518   \n",
       "11335564       37        9839   \n",
       "16934756       37       10305   \n",
       "15670393       37       12099   \n",
       "22822752       37       13431   \n",
       "13395574       37       16185   \n",
       "6279092        37       16349   \n",
       "18007198       37       16759   \n",
       "6676675        37       17600   \n",
       "100106         37       17794   \n",
       "10198077       37       17948   \n",
       "17200205       37       18027   \n",
       "18691297       37       18918   \n",
       "11411140       37       19048   \n",
       "7674547        37       19057   \n",
       "3482738        37       20995   \n",
       "2875512        37       21137   \n",
       "8876749        37       21616   \n",
       "357827         37       21903   \n",
       "4773926        37       21938   \n",
       "5068451        37       22825   \n",
       "13998046       37       23165   \n",
       "19775333       37       23579   \n",
       "1888042        37       24852   \n",
       "18627627       37       25588   \n",
       "4338968        37       25931   \n",
       "8171608        37       26209   \n",
       "8811357        37       26369   \n",
       "\n",
       "                                               product_name  user  item  \n",
       "20103043         Organic Raw Unfiltered Apple Cider Vinegar     0    72  \n",
       "15174494                                 Small Hass Avocado     0   101  \n",
       "7098624                                       Organic Lemon     0   115  \n",
       "4483330                                   Organic Red Onion     0   167  \n",
       "587782    Air Chilled Organic Boneless Skinless Chicken ...     0   343  \n",
       "4698597                           Roasted Red Pepper Hummus     0   424  \n",
       "2762349                                Organic Strawberries     0   425  \n",
       "17431079                               90% Lean Ground Beef     0   461  \n",
       "10491102                                    Organic Romaine     0   500  \n",
       "8142399                                               Limes     0   532  \n",
       "2402823                                    Organic Cilantro     0   637  \n",
       "11926926                      Organic Italian Parsley Bunch     0   686  \n",
       "19160225                                       Hass Avocado     0   767  \n",
       "13825078                         Organic Cripps Pink Apples     0   815  \n",
       "13670127                              Organic Salted Butter     1    10  \n",
       "5502481                                        Mango Chunks     1    15  \n",
       "23218589                          Whole Milk Ricotta Cheese     1    36  \n",
       "23907602                                          Pineapple     1    55  \n",
       "23537898                 Garlic & Fine Herbs Gournay Cheese     1    70  \n",
       "14051486                  Organic Thompson Seedless Raisins     1    90  \n",
       "7443471                                Organic Tomato Paste     1   132  \n",
       "12138595                     Peanut Butter Creamy With Salt     1   160  \n",
       "4419916                                   Organic Red Onion     1   167  \n",
       "11335564                                   Organic Broccoli     1   193  \n",
       "16934756                                         Black Plum     1   200  \n",
       "15670393                                 Honey Greek Yogurt     1   235  \n",
       "22822752                                     Flaky Biscuits     1   264  \n",
       "13395574                               Sharp Cheddar Cheese     1   318  \n",
       "6279092                                        Organic Yams     1   324  \n",
       "18007198                               Organic Carrot Bunch     1   330  \n",
       "6676675   YoKids Squeezers Organic Low-Fat Yogurt, Straw...     1   344  \n",
       "100106                                              Carrots     1   350  \n",
       "10198077                    Frozen Organic Wild Blueberries     1   357  \n",
       "17200205     Ezekiel 4:9 Bread Organic Sprouted Whole Grain     1   361  \n",
       "18691297                            Organic Chopped Spinach     1   380  \n",
       "11411140                           Organic Butternut Squash     1   387  \n",
       "7674547                Organic Large Extra Fancy Fuji Apple     1   389  \n",
       "3482738                            Organic Broccoli Florets     1   422  \n",
       "2875512                                Organic Strawberries     1   425  \n",
       "8876749                                Organic Baby Arugula     1   442  \n",
       "357827                                 Organic Baby Spinach     1   445  \n",
       "4773926                                   Green Bell Pepper     1   447  \n",
       "5068451                               Organic D'Anjou Pears     1   459  \n",
       "13998046                                       Organic Leek     1   467  \n",
       "19775333  Peanut Butter Chocolate Chip Fruit & Nut Food Bar     1   479  \n",
       "1888042                                              Banana     1   504  \n",
       "18627627                          Seedless Small Watermelon     1   517  \n",
       "4338968                          Organic Baby Spinach Salad     1   526  \n",
       "8171608                                               Limes     1   532  \n",
       "8811357                                 Organic Roma Tomato     1   536  "
      ]
     },
     "execution_count": 7,
     "metadata": {},
     "output_type": "execute_result"
    }
   ],
   "source": [
    "transactions.sort_values(by=['user','item'],inplace=True)\n",
    "transactions.head(50)"
   ]
  },
  {
   "cell_type": "markdown",
   "metadata": {
    "slideshow": {
     "slide_type": "subslide"
    }
   },
   "source": [
    "# Split the ratings for train and test"
   ]
  },
  {
   "cell_type": "code",
   "execution_count": 8,
   "metadata": {
    "slideshow": {
     "slide_type": "-"
    }
   },
   "outputs": [],
   "source": [
    "from sklearn.model_selection import train_test_split\n",
    "train_data, test_data = train_test_split(transactions, test_size=0.2,random_state=3)"
   ]
  },
  {
   "cell_type": "markdown",
   "metadata": {
    "slideshow": {
     "slide_type": "subslide"
    }
   },
   "source": [
    "# Create user-item matrix from set of ratings"
   ]
  },
  {
   "cell_type": "code",
   "execution_count": 9,
   "metadata": {
    "slideshow": {
     "slide_type": "fragment"
    }
   },
   "outputs": [],
   "source": [
    "# We fill in the user item matrix for train and test set. \n",
    "train_data_matrix = np.zeros((n_users, n_items))\n",
    "for line in train_data.itertuples():\n",
    "    train_data_matrix[line.user, line.item] = 1\n",
    "\n",
    "test_data_matrix = np.zeros((n_users, n_items))\n",
    "for line in test_data.itertuples():\n",
    "    test_data_matrix[line.user, line.item] = 1"
   ]
  },
  {
   "cell_type": "markdown",
   "metadata": {
    "slideshow": {
     "slide_type": "subslide"
    }
   },
   "source": [
    "# Determine how sparse/dense the train matrix is"
   ]
  },
  {
   "cell_type": "code",
   "execution_count": 10,
   "metadata": {
    "slideshow": {
     "slide_type": "fragment"
    }
   },
   "outputs": [
    {
     "name": "stdout",
     "output_type": "stream",
     "text": [
      "The train_data_matrix is filled for 2.45%\n"
     ]
    }
   ],
   "source": [
    "density = train_data_matrix.mean()*100\n",
    "print('The train_data_matrix is filled for %3.2f%%'%(density))"
   ]
  },
  {
   "cell_type": "markdown",
   "metadata": {
    "slideshow": {
     "slide_type": "slide"
    }
   },
   "source": [
    "# Calculate cosine simularity matrices from the train set\n",
    "$\n",
    "s_u^{cos}(i_m,i_b)\n",
    " = \\frac{ i_m \\cdot i_b }{ \\left \\| i_m \\right \\| \\left \\| i_b \\right \\| }\n",
    " = \\frac{ \\sum x_{a,m} x_{a,b} }{ \\sqrt{ \\sum x_{a,m}^2 \\sum x_{a,b}^2 } }\n",
    "$\n",
    "\n",
    "$\n",
    "s_u^{cos}(u_k,u_a)\n",
    " = \\frac{ u_k \\cdot u_a }{ \\left \\| u_k \\right \\| \\left \\| u_a \\right \\| }\n",
    " = \\frac{ \\sum x_{k,m}x_{a,m} }{ \\sqrt{\\sum x_{k,m}^2\\sum x_{a,m}^2} }\n",
    "$\n",
    "\n",
    "Hint: checkout pairwise_distances from sklearn "
   ]
  },
  {
   "cell_type": "code",
   "execution_count": 11,
   "metadata": {
    "slideshow": {
     "slide_type": "fragment"
    }
   },
   "outputs": [],
   "source": [
    "from sklearn.metrics.pairwise import pairwise_distances\n",
    "user_similarity = 1 - pairwise_distances(train_data_matrix,  metric='cosine')\n",
    "item_similarity = 1 - pairwise_distances(train_data_matrix.T, metric='cosine')"
   ]
  },
  {
   "cell_type": "markdown",
   "metadata": {
    "slideshow": {
     "slide_type": "slide"
    }
   },
   "source": [
    "# What 10 items are most similar to 'Organic Hass Avocado'?"
   ]
  },
  {
   "cell_type": "markdown",
   "metadata": {
    "slideshow": {
     "slide_type": "-"
    }
   },
   "source": [
    "<center><img src=\"resources/avocado.jpg\" width=\"600\"></center>"
   ]
  },
  {
   "cell_type": "code",
   "execution_count": 12,
   "metadata": {
    "scrolled": false,
    "slideshow": {
     "slide_type": "subslide"
    }
   },
   "outputs": [
    {
     "data": {
      "text/html": [
       "<div>\n",
       "<style>\n",
       "    .dataframe thead tr:only-child th {\n",
       "        text-align: right;\n",
       "    }\n",
       "\n",
       "    .dataframe thead th {\n",
       "        text-align: left;\n",
       "    }\n",
       "\n",
       "    .dataframe tbody tr th {\n",
       "        vertical-align: top;\n",
       "    }\n",
       "</style>\n",
       "<table border=\"1\" class=\"dataframe\">\n",
       "  <thead>\n",
       "    <tr style=\"text-align: right;\">\n",
       "      <th></th>\n",
       "      <th>product_id</th>\n",
       "      <th>product_name</th>\n",
       "      <th>item</th>\n",
       "    </tr>\n",
       "  </thead>\n",
       "  <tbody>\n",
       "    <tr>\n",
       "      <th>1405646</th>\n",
       "      <td>47209</td>\n",
       "      <td>Organic Hass Avocado</td>\n",
       "      <td>952</td>\n",
       "    </tr>\n",
       "  </tbody>\n",
       "</table>\n",
       "</div>"
      ],
      "text/plain": [
       "         product_id          product_name  item\n",
       "1405646       47209  Organic Hass Avocado   952"
      ]
     },
     "execution_count": 12,
     "metadata": {},
     "output_type": "execute_result"
    }
   ],
   "source": [
    "product_lookup = transactions[['product_id','product_name','item']].drop_duplicates()\n",
    "product_lookup[product_lookup.product_name=='Organic Hass Avocado']"
   ]
  },
  {
   "cell_type": "code",
   "execution_count": 13,
   "metadata": {
    "slideshow": {
     "slide_type": "subslide"
    }
   },
   "outputs": [
    {
     "data": {
      "text/html": [
       "<div>\n",
       "<style>\n",
       "    .dataframe thead tr:only-child th {\n",
       "        text-align: right;\n",
       "    }\n",
       "\n",
       "    .dataframe thead th {\n",
       "        text-align: left;\n",
       "    }\n",
       "\n",
       "    .dataframe tbody tr th {\n",
       "        vertical-align: top;\n",
       "    }\n",
       "</style>\n",
       "<table border=\"1\" class=\"dataframe\">\n",
       "  <thead>\n",
       "    <tr style=\"text-align: right;\">\n",
       "      <th></th>\n",
       "      <th>product_id</th>\n",
       "      <th>product_name</th>\n",
       "      <th>item</th>\n",
       "    </tr>\n",
       "  </thead>\n",
       "  <tbody>\n",
       "    <tr>\n",
       "      <th>7098624</th>\n",
       "      <td>5876</td>\n",
       "      <td>Organic Lemon</td>\n",
       "      <td>115</td>\n",
       "    </tr>\n",
       "    <tr>\n",
       "      <th>2762349</th>\n",
       "      <td>21137</td>\n",
       "      <td>Organic Strawberries</td>\n",
       "      <td>425</td>\n",
       "    </tr>\n",
       "    <tr>\n",
       "      <th>8142399</th>\n",
       "      <td>26209</td>\n",
       "      <td>Limes</td>\n",
       "      <td>532</td>\n",
       "    </tr>\n",
       "    <tr>\n",
       "      <th>2402823</th>\n",
       "      <td>31717</td>\n",
       "      <td>Organic Cilantro</td>\n",
       "      <td>637</td>\n",
       "    </tr>\n",
       "    <tr>\n",
       "      <th>357827</th>\n",
       "      <td>21903</td>\n",
       "      <td>Organic Baby Spinach</td>\n",
       "      <td>445</td>\n",
       "    </tr>\n",
       "    <tr>\n",
       "      <th>1039807</th>\n",
       "      <td>13176</td>\n",
       "      <td>Bag of Organic Bananas</td>\n",
       "      <td>258</td>\n",
       "    </tr>\n",
       "    <tr>\n",
       "      <th>1163581</th>\n",
       "      <td>27966</td>\n",
       "      <td>Organic Raspberries</td>\n",
       "      <td>568</td>\n",
       "    </tr>\n",
       "    <tr>\n",
       "      <th>7224257</th>\n",
       "      <td>30391</td>\n",
       "      <td>Organic Cucumber</td>\n",
       "      <td>611</td>\n",
       "    </tr>\n",
       "    <tr>\n",
       "      <th>5590619</th>\n",
       "      <td>22935</td>\n",
       "      <td>Organic Yellow Onion</td>\n",
       "      <td>462</td>\n",
       "    </tr>\n",
       "    <tr>\n",
       "      <th>7561582</th>\n",
       "      <td>24964</td>\n",
       "      <td>Organic Garlic</td>\n",
       "      <td>506</td>\n",
       "    </tr>\n",
       "  </tbody>\n",
       "</table>\n",
       "</div>"
      ],
      "text/plain": [
       "         product_id            product_name  item\n",
       "7098624        5876           Organic Lemon   115\n",
       "2762349       21137    Organic Strawberries   425\n",
       "8142399       26209                   Limes   532\n",
       "2402823       31717        Organic Cilantro   637\n",
       "357827        21903    Organic Baby Spinach   445\n",
       "1039807       13176  Bag of Organic Bananas   258\n",
       "1163581       27966     Organic Raspberries   568\n",
       "7224257       30391        Organic Cucumber   611\n",
       "5590619       22935    Organic Yellow Onion   462\n",
       "7561582       24964          Organic Garlic   506"
      ]
     },
     "execution_count": 13,
     "metadata": {},
     "output_type": "execute_result"
    }
   ],
   "source": [
    "product_lookup[product_lookup.item.isin(np.argsort(item_similarity[952])[-11:-1])]\\\n",
    "    .drop_duplicates()"
   ]
  },
  {
   "cell_type": "markdown",
   "metadata": {
    "slideshow": {
     "slide_type": "slide"
    }
   },
   "source": [
    "# Which products has user 10370 bought?"
   ]
  },
  {
   "cell_type": "code",
   "execution_count": 14,
   "metadata": {
    "slideshow": {
     "slide_type": "fragment"
    }
   },
   "outputs": [
    {
     "data": {
      "text/html": [
       "<div>\n",
       "<style>\n",
       "    .dataframe thead tr:only-child th {\n",
       "        text-align: right;\n",
       "    }\n",
       "\n",
       "    .dataframe thead th {\n",
       "        text-align: left;\n",
       "    }\n",
       "\n",
       "    .dataframe tbody tr th {\n",
       "        vertical-align: top;\n",
       "    }\n",
       "</style>\n",
       "<table border=\"1\" class=\"dataframe\">\n",
       "  <thead>\n",
       "    <tr style=\"text-align: right;\">\n",
       "      <th></th>\n",
       "      <th>user_id</th>\n",
       "      <th>product_id</th>\n",
       "      <th>product_name</th>\n",
       "      <th>user</th>\n",
       "      <th>item</th>\n",
       "    </tr>\n",
       "  </thead>\n",
       "  <tbody>\n",
       "    <tr>\n",
       "      <th>7019853</th>\n",
       "      <td>10370</td>\n",
       "      <td>5876</td>\n",
       "      <td>Organic Lemon</td>\n",
       "      <td>232</td>\n",
       "      <td>115</td>\n",
       "    </tr>\n",
       "    <tr>\n",
       "      <th>21169423</th>\n",
       "      <td>10370</td>\n",
       "      <td>14633</td>\n",
       "      <td>Veggie Chips</td>\n",
       "      <td>232</td>\n",
       "      <td>293</td>\n",
       "    </tr>\n",
       "    <tr>\n",
       "      <th>7884865</th>\n",
       "      <td>10370</td>\n",
       "      <td>38777</td>\n",
       "      <td>Organic Green Seedless Grapes</td>\n",
       "      <td>232</td>\n",
       "      <td>770</td>\n",
       "    </tr>\n",
       "    <tr>\n",
       "      <th>24136293</th>\n",
       "      <td>10370</td>\n",
       "      <td>10621</td>\n",
       "      <td>Organic Purple Kale</td>\n",
       "      <td>232</td>\n",
       "      <td>207</td>\n",
       "    </tr>\n",
       "    <tr>\n",
       "      <th>7514166</th>\n",
       "      <td>10370</td>\n",
       "      <td>24964</td>\n",
       "      <td>Organic Garlic</td>\n",
       "      <td>232</td>\n",
       "      <td>506</td>\n",
       "    </tr>\n",
       "    <tr>\n",
       "      <th>26173817</th>\n",
       "      <td>10370</td>\n",
       "      <td>49111</td>\n",
       "      <td>Original Instant Oatmeal</td>\n",
       "      <td>232</td>\n",
       "      <td>986</td>\n",
       "    </tr>\n",
       "    <tr>\n",
       "      <th>13338961</th>\n",
       "      <td>10370</td>\n",
       "      <td>32691</td>\n",
       "      <td>Vanilla Ice Cream</td>\n",
       "      <td>232</td>\n",
       "      <td>660</td>\n",
       "    </tr>\n",
       "    <tr>\n",
       "      <th>13264448</th>\n",
       "      <td>10370</td>\n",
       "      <td>43789</td>\n",
       "      <td>Organic Basil</td>\n",
       "      <td>232</td>\n",
       "      <td>872</td>\n",
       "    </tr>\n",
       "    <tr>\n",
       "      <th>18742533</th>\n",
       "      <td>10370</td>\n",
       "      <td>40002</td>\n",
       "      <td>Strawberry Ice Cream</td>\n",
       "      <td>232</td>\n",
       "      <td>796</td>\n",
       "    </tr>\n",
       "    <tr>\n",
       "      <th>1846787</th>\n",
       "      <td>10370</td>\n",
       "      <td>24852</td>\n",
       "      <td>Banana</td>\n",
       "      <td>232</td>\n",
       "      <td>504</td>\n",
       "    </tr>\n",
       "    <tr>\n",
       "      <th>7688191</th>\n",
       "      <td>10370</td>\n",
       "      <td>19057</td>\n",
       "      <td>Organic Large Extra Fancy Fuji Apple</td>\n",
       "      <td>232</td>\n",
       "      <td>389</td>\n",
       "    </tr>\n",
       "    <tr>\n",
       "      <th>3497292</th>\n",
       "      <td>10370</td>\n",
       "      <td>20995</td>\n",
       "      <td>Organic Broccoli Florets</td>\n",
       "      <td>232</td>\n",
       "      <td>422</td>\n",
       "    </tr>\n",
       "    <tr>\n",
       "      <th>7332168</th>\n",
       "      <td>10370</td>\n",
       "      <td>11520</td>\n",
       "      <td>Large Alfresco Eggs</td>\n",
       "      <td>232</td>\n",
       "      <td>228</td>\n",
       "    </tr>\n",
       "    <tr>\n",
       "      <th>19165391</th>\n",
       "      <td>10370</td>\n",
       "      <td>38739</td>\n",
       "      <td>Hass Avocado</td>\n",
       "      <td>232</td>\n",
       "      <td>767</td>\n",
       "    </tr>\n",
       "    <tr>\n",
       "      <th>8118917</th>\n",
       "      <td>10370</td>\n",
       "      <td>26209</td>\n",
       "      <td>Limes</td>\n",
       "      <td>232</td>\n",
       "      <td>532</td>\n",
       "    </tr>\n",
       "    <tr>\n",
       "      <th>21031800</th>\n",
       "      <td>10370</td>\n",
       "      <td>21009</td>\n",
       "      <td>Crispy Wheat, Crackers</td>\n",
       "      <td>232</td>\n",
       "      <td>423</td>\n",
       "    </tr>\n",
       "    <tr>\n",
       "      <th>13236077</th>\n",
       "      <td>10370</td>\n",
       "      <td>46720</td>\n",
       "      <td>Organic Free Range Chicken Broth</td>\n",
       "      <td>232</td>\n",
       "      <td>937</td>\n",
       "    </tr>\n",
       "    <tr>\n",
       "      <th>20592279</th>\n",
       "      <td>10370</td>\n",
       "      <td>24082</td>\n",
       "      <td>Organic Dark Sweet Cherries</td>\n",
       "      <td>232</td>\n",
       "      <td>489</td>\n",
       "    </tr>\n",
       "    <tr>\n",
       "      <th>9529473</th>\n",
       "      <td>10370</td>\n",
       "      <td>35503</td>\n",
       "      <td>Organic Vanilla Almond Milk</td>\n",
       "      <td>232</td>\n",
       "      <td>711</td>\n",
       "    </tr>\n",
       "    <tr>\n",
       "      <th>14977297</th>\n",
       "      <td>10370</td>\n",
       "      <td>11941</td>\n",
       "      <td>Tortillas, Corn, Organic</td>\n",
       "      <td>232</td>\n",
       "      <td>234</td>\n",
       "    </tr>\n",
       "    <tr>\n",
       "      <th>1138188</th>\n",
       "      <td>10370</td>\n",
       "      <td>27966</td>\n",
       "      <td>Organic Raspberries</td>\n",
       "      <td>232</td>\n",
       "      <td>568</td>\n",
       "    </tr>\n",
       "    <tr>\n",
       "      <th>19455034</th>\n",
       "      <td>10370</td>\n",
       "      <td>10814</td>\n",
       "      <td>Applewood Smoked Bacon</td>\n",
       "      <td>232</td>\n",
       "      <td>212</td>\n",
       "    </tr>\n",
       "    <tr>\n",
       "      <th>7435187</th>\n",
       "      <td>10370</td>\n",
       "      <td>7021</td>\n",
       "      <td>Organic Tomato Paste</td>\n",
       "      <td>232</td>\n",
       "      <td>132</td>\n",
       "    </tr>\n",
       "    <tr>\n",
       "      <th>7351523</th>\n",
       "      <td>10370</td>\n",
       "      <td>18234</td>\n",
       "      <td>Organic Spinach Bunch</td>\n",
       "      <td>232</td>\n",
       "      <td>362</td>\n",
       "    </tr>\n",
       "    <tr>\n",
       "      <th>13935145</th>\n",
       "      <td>10370</td>\n",
       "      <td>14084</td>\n",
       "      <td>Organic Unsweetened Vanilla Almond Milk</td>\n",
       "      <td>232</td>\n",
       "      <td>283</td>\n",
       "    </tr>\n",
       "    <tr>\n",
       "      <th>19753804</th>\n",
       "      <td>10370</td>\n",
       "      <td>46650</td>\n",
       "      <td>Special Reserve Extra Sharp Cheddar Cheese</td>\n",
       "      <td>232</td>\n",
       "      <td>932</td>\n",
       "    </tr>\n",
       "    <tr>\n",
       "      <th>14248872</th>\n",
       "      <td>10370</td>\n",
       "      <td>3957</td>\n",
       "      <td>100% Raw Coconut Water</td>\n",
       "      <td>232</td>\n",
       "      <td>61</td>\n",
       "    </tr>\n",
       "    <tr>\n",
       "      <th>21489190</th>\n",
       "      <td>10370</td>\n",
       "      <td>24759</td>\n",
       "      <td>Club Soda</td>\n",
       "      <td>232</td>\n",
       "      <td>497</td>\n",
       "    </tr>\n",
       "    <tr>\n",
       "      <th>14002436</th>\n",
       "      <td>10370</td>\n",
       "      <td>23165</td>\n",
       "      <td>Organic Leek</td>\n",
       "      <td>232</td>\n",
       "      <td>467</td>\n",
       "    </tr>\n",
       "    <tr>\n",
       "      <th>13280180</th>\n",
       "      <td>10370</td>\n",
       "      <td>17949</td>\n",
       "      <td>Mild Cheddar Cheese Sticks</td>\n",
       "      <td>232</td>\n",
       "      <td>358</td>\n",
       "    </tr>\n",
       "    <tr>\n",
       "      <th>25215408</th>\n",
       "      <td>10370</td>\n",
       "      <td>28597</td>\n",
       "      <td>Organic Stoneground Wheat Crackers</td>\n",
       "      <td>232</td>\n",
       "      <td>581</td>\n",
       "    </tr>\n",
       "    <tr>\n",
       "      <th>11067690</th>\n",
       "      <td>10370</td>\n",
       "      <td>2078</td>\n",
       "      <td>Unsalted Pure Irish Butter</td>\n",
       "      <td>232</td>\n",
       "      <td>29</td>\n",
       "    </tr>\n",
       "    <tr>\n",
       "      <th>10200211</th>\n",
       "      <td>10370</td>\n",
       "      <td>17948</td>\n",
       "      <td>Frozen Organic Wild Blueberries</td>\n",
       "      <td>232</td>\n",
       "      <td>357</td>\n",
       "    </tr>\n",
       "    <tr>\n",
       "      <th>12118274</th>\n",
       "      <td>10370</td>\n",
       "      <td>42768</td>\n",
       "      <td>Organic Garbanzo Beans</td>\n",
       "      <td>232</td>\n",
       "      <td>853</td>\n",
       "    </tr>\n",
       "    <tr>\n",
       "      <th>6593154</th>\n",
       "      <td>10370</td>\n",
       "      <td>39275</td>\n",
       "      <td>Organic Blueberries</td>\n",
       "      <td>232</td>\n",
       "      <td>782</td>\n",
       "    </tr>\n",
       "    <tr>\n",
       "      <th>13545749</th>\n",
       "      <td>10370</td>\n",
       "      <td>27521</td>\n",
       "      <td>Organic Lacinato (Dinosaur) Kale</td>\n",
       "      <td>232</td>\n",
       "      <td>559</td>\n",
       "    </tr>\n",
       "    <tr>\n",
       "      <th>7228822</th>\n",
       "      <td>10370</td>\n",
       "      <td>30391</td>\n",
       "      <td>Organic Cucumber</td>\n",
       "      <td>232</td>\n",
       "      <td>611</td>\n",
       "    </tr>\n",
       "    <tr>\n",
       "      <th>16363868</th>\n",
       "      <td>10370</td>\n",
       "      <td>18370</td>\n",
       "      <td>Organic Shredded Mozzarella</td>\n",
       "      <td>232</td>\n",
       "      <td>366</td>\n",
       "    </tr>\n",
       "    <tr>\n",
       "      <th>8790807</th>\n",
       "      <td>10370</td>\n",
       "      <td>12456</td>\n",
       "      <td>Organic Sunday Bacon</td>\n",
       "      <td>232</td>\n",
       "      <td>244</td>\n",
       "    </tr>\n",
       "    <tr>\n",
       "      <th>2815277</th>\n",
       "      <td>10370</td>\n",
       "      <td>21137</td>\n",
       "      <td>Organic Strawberries</td>\n",
       "      <td>232</td>\n",
       "      <td>425</td>\n",
       "    </tr>\n",
       "    <tr>\n",
       "      <th>4255063</th>\n",
       "      <td>10370</td>\n",
       "      <td>25718</td>\n",
       "      <td>Cold Brew Coffee</td>\n",
       "      <td>232</td>\n",
       "      <td>521</td>\n",
       "    </tr>\n",
       "    <tr>\n",
       "      <th>7945304</th>\n",
       "      <td>10370</td>\n",
       "      <td>890</td>\n",
       "      <td>Organic Diced Tomatoes</td>\n",
       "      <td>232</td>\n",
       "      <td>12</td>\n",
       "    </tr>\n",
       "    <tr>\n",
       "      <th>21663766</th>\n",
       "      <td>10370</td>\n",
       "      <td>17878</td>\n",
       "      <td>Grilled Chicken Breast Strips</td>\n",
       "      <td>232</td>\n",
       "      <td>355</td>\n",
       "    </tr>\n",
       "    <tr>\n",
       "      <th>24174241</th>\n",
       "      <td>10370</td>\n",
       "      <td>9421</td>\n",
       "      <td>Organic Raw Multigreen Kobmbucha</td>\n",
       "      <td>232</td>\n",
       "      <td>184</td>\n",
       "    </tr>\n",
       "    <tr>\n",
       "      <th>3620371</th>\n",
       "      <td>10370</td>\n",
       "      <td>19660</td>\n",
       "      <td>Spring Water</td>\n",
       "      <td>232</td>\n",
       "      <td>397</td>\n",
       "    </tr>\n",
       "    <tr>\n",
       "      <th>15629990</th>\n",
       "      <td>10370</td>\n",
       "      <td>2086</td>\n",
       "      <td>Sustainably Soft Bath Tissue</td>\n",
       "      <td>232</td>\n",
       "      <td>30</td>\n",
       "    </tr>\n",
       "    <tr>\n",
       "      <th>14653552</th>\n",
       "      <td>10370</td>\n",
       "      <td>20842</td>\n",
       "      <td>Total 0% Greek Yogurt</td>\n",
       "      <td>232</td>\n",
       "      <td>417</td>\n",
       "    </tr>\n",
       "    <tr>\n",
       "      <th>8274455</th>\n",
       "      <td>10370</td>\n",
       "      <td>20114</td>\n",
       "      <td>Jalapeno Peppers</td>\n",
       "      <td>232</td>\n",
       "      <td>405</td>\n",
       "    </tr>\n",
       "    <tr>\n",
       "      <th>4050259</th>\n",
       "      <td>10370</td>\n",
       "      <td>35547</td>\n",
       "      <td>Organic Baby Kale</td>\n",
       "      <td>232</td>\n",
       "      <td>713</td>\n",
       "    </tr>\n",
       "    <tr>\n",
       "      <th>12331643</th>\n",
       "      <td>10370</td>\n",
       "      <td>18465</td>\n",
       "      <td>Organic Grade A Free Range Large Brown Eggs</td>\n",
       "      <td>232</td>\n",
       "      <td>370</td>\n",
       "    </tr>\n",
       "  </tbody>\n",
       "</table>\n",
       "</div>"
      ],
      "text/plain": [
       "          user_id  product_id                                 product_name  \\\n",
       "7019853     10370        5876                                Organic Lemon   \n",
       "21169423    10370       14633                                 Veggie Chips   \n",
       "7884865     10370       38777                Organic Green Seedless Grapes   \n",
       "24136293    10370       10621                          Organic Purple Kale   \n",
       "7514166     10370       24964                               Organic Garlic   \n",
       "26173817    10370       49111                     Original Instant Oatmeal   \n",
       "13338961    10370       32691                            Vanilla Ice Cream   \n",
       "13264448    10370       43789                                Organic Basil   \n",
       "18742533    10370       40002                         Strawberry Ice Cream   \n",
       "1846787     10370       24852                                       Banana   \n",
       "7688191     10370       19057         Organic Large Extra Fancy Fuji Apple   \n",
       "3497292     10370       20995                     Organic Broccoli Florets   \n",
       "7332168     10370       11520                          Large Alfresco Eggs   \n",
       "19165391    10370       38739                                 Hass Avocado   \n",
       "8118917     10370       26209                                        Limes   \n",
       "21031800    10370       21009                       Crispy Wheat, Crackers   \n",
       "13236077    10370       46720             Organic Free Range Chicken Broth   \n",
       "20592279    10370       24082                  Organic Dark Sweet Cherries   \n",
       "9529473     10370       35503                  Organic Vanilla Almond Milk   \n",
       "14977297    10370       11941                     Tortillas, Corn, Organic   \n",
       "1138188     10370       27966                          Organic Raspberries   \n",
       "19455034    10370       10814                       Applewood Smoked Bacon   \n",
       "7435187     10370        7021                         Organic Tomato Paste   \n",
       "7351523     10370       18234                        Organic Spinach Bunch   \n",
       "13935145    10370       14084      Organic Unsweetened Vanilla Almond Milk   \n",
       "19753804    10370       46650   Special Reserve Extra Sharp Cheddar Cheese   \n",
       "14248872    10370        3957                       100% Raw Coconut Water   \n",
       "21489190    10370       24759                                    Club Soda   \n",
       "14002436    10370       23165                                 Organic Leek   \n",
       "13280180    10370       17949                   Mild Cheddar Cheese Sticks   \n",
       "25215408    10370       28597           Organic Stoneground Wheat Crackers   \n",
       "11067690    10370        2078                   Unsalted Pure Irish Butter   \n",
       "10200211    10370       17948              Frozen Organic Wild Blueberries   \n",
       "12118274    10370       42768                       Organic Garbanzo Beans   \n",
       "6593154     10370       39275                          Organic Blueberries   \n",
       "13545749    10370       27521             Organic Lacinato (Dinosaur) Kale   \n",
       "7228822     10370       30391                             Organic Cucumber   \n",
       "16363868    10370       18370                  Organic Shredded Mozzarella   \n",
       "8790807     10370       12456                         Organic Sunday Bacon   \n",
       "2815277     10370       21137                         Organic Strawberries   \n",
       "4255063     10370       25718                             Cold Brew Coffee   \n",
       "7945304     10370         890                       Organic Diced Tomatoes   \n",
       "21663766    10370       17878                Grilled Chicken Breast Strips   \n",
       "24174241    10370        9421             Organic Raw Multigreen Kobmbucha   \n",
       "3620371     10370       19660                                 Spring Water   \n",
       "15629990    10370        2086                 Sustainably Soft Bath Tissue   \n",
       "14653552    10370       20842                        Total 0% Greek Yogurt   \n",
       "8274455     10370       20114                             Jalapeno Peppers   \n",
       "4050259     10370       35547                            Organic Baby Kale   \n",
       "12331643    10370       18465  Organic Grade A Free Range Large Brown Eggs   \n",
       "\n",
       "          user  item  \n",
       "7019853    232   115  \n",
       "21169423   232   293  \n",
       "7884865    232   770  \n",
       "24136293   232   207  \n",
       "7514166    232   506  \n",
       "26173817   232   986  \n",
       "13338961   232   660  \n",
       "13264448   232   872  \n",
       "18742533   232   796  \n",
       "1846787    232   504  \n",
       "7688191    232   389  \n",
       "3497292    232   422  \n",
       "7332168    232   228  \n",
       "19165391   232   767  \n",
       "8118917    232   532  \n",
       "21031800   232   423  \n",
       "13236077   232   937  \n",
       "20592279   232   489  \n",
       "9529473    232   711  \n",
       "14977297   232   234  \n",
       "1138188    232   568  \n",
       "19455034   232   212  \n",
       "7435187    232   132  \n",
       "7351523    232   362  \n",
       "13935145   232   283  \n",
       "19753804   232   932  \n",
       "14248872   232    61  \n",
       "21489190   232   497  \n",
       "14002436   232   467  \n",
       "13280180   232   358  \n",
       "25215408   232   581  \n",
       "11067690   232    29  \n",
       "10200211   232   357  \n",
       "12118274   232   853  \n",
       "6593154    232   782  \n",
       "13545749   232   559  \n",
       "7228822    232   611  \n",
       "16363868   232   366  \n",
       "8790807    232   244  \n",
       "2815277    232   425  \n",
       "4255063    232   521  \n",
       "7945304    232    12  \n",
       "21663766   232   355  \n",
       "24174241   232   184  \n",
       "3620371    232   397  \n",
       "15629990   232    30  \n",
       "14653552   232   417  \n",
       "8274455    232   405  \n",
       "4050259    232   713  \n",
       "12331643   232   370  "
      ]
     },
     "execution_count": 14,
     "metadata": {},
     "output_type": "execute_result"
    }
   ],
   "source": [
    "train_data[train_data.user_id==10370]"
   ]
  },
  {
   "cell_type": "markdown",
   "metadata": {
    "slideshow": {
     "slide_type": "slide"
    }
   },
   "source": [
    "# Now it's time to predict using our item-to-item similarity matrix\n",
    "- A prediction can be made by (dot) multiplying the simularity matrix (#Items x #Items) by someone's profile (1 x #Items) <br>"
   ]
  },
  {
   "cell_type": "markdown",
   "metadata": {
    "slideshow": {
     "slide_type": "fragment"
    }
   },
   "source": [
    "$\n",
    "\\pmatrix{1.0 & 0.2 & 0.5 & 0.1 \\\\ \n",
    "         0.2 & 1.0 & 0.9 & 0.3 \\\\\n",
    "         0.5 & 0.9 & 1.0 & 0.3 \\\\\n",
    "         0.1 & 0.3 & 0.3 & 1.0} \\pmatrix{0 \\\\ 1 \\\\ 1 \\\\ 0}  = \n",
    "         \\pmatrix{0.7 \\\\ 1.9 \\\\ 1.9 \\\\ 0.6} \\rightarrow \\pmatrix{ \\#1 \\\\ \\texttt{not recommended} \\\\ \\texttt{not recommended} \\\\ \\#2}\n",
    "$"
   ]
  },
  {
   "cell_type": "markdown",
   "metadata": {
    "slideshow": {
     "slide_type": "fragment"
    }
   },
   "source": [
    "- Grab user 10370 from the train tranactions and predict 20 items to recommend to this user."
   ]
  },
  {
   "cell_type": "code",
   "execution_count": 15,
   "metadata": {
    "slideshow": {
     "slide_type": "subslide"
    }
   },
   "outputs": [],
   "source": [
    "def make_predictions(user_id):\n",
    "    # find normalized user_id\n",
    "    user_normalized = user_normalizer.lookup[user_id]\n",
    "    # Dot product, followed by argsort. \n",
    "    # Multiplied by -1 such that the item with highest scores come first out of argsort. \n",
    "    predictions = np.argsort(-1*np.dot(item_similarity,train_data_matrix[user_normalized,:]))\n",
    "    bought_products_train = np.where(train_data_matrix[user_normalized,:])[0] # find items in train\n",
    "    # remove items already bought in train set\n",
    "    valid_predictions =[]\n",
    "    for prediction in predictions:\n",
    "        if prediction not in bought_products_train:\n",
    "            valid_predictions.append(prediction)\n",
    "    return valid_predictions"
   ]
  },
  {
   "cell_type": "code",
   "execution_count": 16,
   "metadata": {
    "slideshow": {
     "slide_type": "subslide"
    }
   },
   "outputs": [
    {
     "data": {
      "text/plain": [
       "[952,\n",
       " 445,\n",
       " 462,\n",
       " 258,\n",
       " 899,\n",
       " 882,\n",
       " 813,\n",
       " 550,\n",
       " 686,\n",
       " 637,\n",
       " 957,\n",
       " 962,\n",
       " 167,\n",
       " 934,\n",
       " 350,\n",
       " 161,\n",
       " 210,\n",
       " 442,\n",
       " 836,\n",
       " 979]"
      ]
     },
     "execution_count": 16,
     "metadata": {},
     "output_type": "execute_result"
    }
   ],
   "source": [
    "predictions = make_predictions(10370)[:20]\n",
    "predictions"
   ]
  },
  {
   "cell_type": "markdown",
   "metadata": {
    "slideshow": {
     "slide_type": "slide"
    }
   },
   "source": [
    "# How well did you do?"
   ]
  },
  {
   "cell_type": "code",
   "execution_count": 17,
   "metadata": {
    "scrolled": true,
    "slideshow": {
     "slide_type": "fragment"
    }
   },
   "outputs": [
    {
     "data": {
      "text/html": [
       "<div>\n",
       "<style>\n",
       "    .dataframe thead tr:only-child th {\n",
       "        text-align: right;\n",
       "    }\n",
       "\n",
       "    .dataframe thead th {\n",
       "        text-align: left;\n",
       "    }\n",
       "\n",
       "    .dataframe tbody tr th {\n",
       "        vertical-align: top;\n",
       "    }\n",
       "</style>\n",
       "<table border=\"1\" class=\"dataframe\">\n",
       "  <thead>\n",
       "    <tr style=\"text-align: right;\">\n",
       "      <th></th>\n",
       "      <th>product_id</th>\n",
       "      <th>product_name</th>\n",
       "      <th>item</th>\n",
       "    </tr>\n",
       "  </thead>\n",
       "  <tbody>\n",
       "    <tr>\n",
       "      <th>7098624</th>\n",
       "      <td>5876</td>\n",
       "      <td>Organic Lemon</td>\n",
       "      <td>115</td>\n",
       "    </tr>\n",
       "    <tr>\n",
       "      <th>2762349</th>\n",
       "      <td>21137</td>\n",
       "      <td>Organic Strawberries</td>\n",
       "      <td>425</td>\n",
       "    </tr>\n",
       "    <tr>\n",
       "      <th>8142399</th>\n",
       "      <td>26209</td>\n",
       "      <td>Limes</td>\n",
       "      <td>532</td>\n",
       "    </tr>\n",
       "    <tr>\n",
       "      <th>19160225</th>\n",
       "      <td>38739</td>\n",
       "      <td>Hass Avocado</td>\n",
       "      <td>767</td>\n",
       "    </tr>\n",
       "    <tr>\n",
       "      <th>7443471</th>\n",
       "      <td>7021</td>\n",
       "      <td>Organic Tomato Paste</td>\n",
       "      <td>132</td>\n",
       "    </tr>\n",
       "    <tr>\n",
       "      <th>10198077</th>\n",
       "      <td>17948</td>\n",
       "      <td>Frozen Organic Wild Blueberries</td>\n",
       "      <td>357</td>\n",
       "    </tr>\n",
       "    <tr>\n",
       "      <th>7674547</th>\n",
       "      <td>19057</td>\n",
       "      <td>Organic Large Extra Fancy Fuji Apple</td>\n",
       "      <td>389</td>\n",
       "    </tr>\n",
       "    <tr>\n",
       "      <th>3482738</th>\n",
       "      <td>20995</td>\n",
       "      <td>Organic Broccoli Florets</td>\n",
       "      <td>422</td>\n",
       "    </tr>\n",
       "    <tr>\n",
       "      <th>13998046</th>\n",
       "      <td>23165</td>\n",
       "      <td>Organic Leek</td>\n",
       "      <td>467</td>\n",
       "    </tr>\n",
       "    <tr>\n",
       "      <th>1888042</th>\n",
       "      <td>24852</td>\n",
       "      <td>Banana</td>\n",
       "      <td>504</td>\n",
       "    </tr>\n",
       "    <tr>\n",
       "      <th>13558468</th>\n",
       "      <td>27521</td>\n",
       "      <td>Organic Lacinato (Dinosaur) Kale</td>\n",
       "      <td>559</td>\n",
       "    </tr>\n",
       "    <tr>\n",
       "      <th>14665543</th>\n",
       "      <td>20842</td>\n",
       "      <td>Total 0% Greek Yogurt</td>\n",
       "      <td>417</td>\n",
       "    </tr>\n",
       "    <tr>\n",
       "      <th>1163581</th>\n",
       "      <td>27966</td>\n",
       "      <td>Organic Raspberries</td>\n",
       "      <td>568</td>\n",
       "    </tr>\n",
       "    <tr>\n",
       "      <th>7335298</th>\n",
       "      <td>11520</td>\n",
       "      <td>Large Alfresco Eggs</td>\n",
       "      <td>228</td>\n",
       "    </tr>\n",
       "    <tr>\n",
       "      <th>4055994</th>\n",
       "      <td>35547</td>\n",
       "      <td>Organic Baby Kale</td>\n",
       "      <td>713</td>\n",
       "    </tr>\n",
       "    <tr>\n",
       "      <th>7224257</th>\n",
       "      <td>30391</td>\n",
       "      <td>Organic Cucumber</td>\n",
       "      <td>611</td>\n",
       "    </tr>\n",
       "    <tr>\n",
       "      <th>8785507</th>\n",
       "      <td>12456</td>\n",
       "      <td>Organic Sunday Bacon</td>\n",
       "      <td>244</td>\n",
       "    </tr>\n",
       "    <tr>\n",
       "      <th>16364488</th>\n",
       "      <td>18370</td>\n",
       "      <td>Organic Shredded Mozzarella</td>\n",
       "      <td>366</td>\n",
       "    </tr>\n",
       "    <tr>\n",
       "      <th>6543273</th>\n",
       "      <td>39275</td>\n",
       "      <td>Organic Blueberries</td>\n",
       "      <td>782</td>\n",
       "    </tr>\n",
       "    <tr>\n",
       "      <th>7561582</th>\n",
       "      <td>24964</td>\n",
       "      <td>Organic Garlic</td>\n",
       "      <td>506</td>\n",
       "    </tr>\n",
       "    <tr>\n",
       "      <th>9525346</th>\n",
       "      <td>35503</td>\n",
       "      <td>Organic Vanilla Almond Milk</td>\n",
       "      <td>711</td>\n",
       "    </tr>\n",
       "    <tr>\n",
       "      <th>12100894</th>\n",
       "      <td>42768</td>\n",
       "      <td>Organic Garbanzo Beans</td>\n",
       "      <td>853</td>\n",
       "    </tr>\n",
       "    <tr>\n",
       "      <th>13230170</th>\n",
       "      <td>46720</td>\n",
       "      <td>Organic Free Range Chicken Broth</td>\n",
       "      <td>937</td>\n",
       "    </tr>\n",
       "    <tr>\n",
       "      <th>8250002</th>\n",
       "      <td>20114</td>\n",
       "      <td>Jalapeno Peppers</td>\n",
       "      <td>405</td>\n",
       "    </tr>\n",
       "    <tr>\n",
       "      <th>13246029</th>\n",
       "      <td>43789</td>\n",
       "      <td>Organic Basil</td>\n",
       "      <td>872</td>\n",
       "    </tr>\n",
       "    <tr>\n",
       "      <th>19456532</th>\n",
       "      <td>10814</td>\n",
       "      <td>Applewood Smoked Bacon</td>\n",
       "      <td>212</td>\n",
       "    </tr>\n",
       "    <tr>\n",
       "      <th>13280509</th>\n",
       "      <td>17949</td>\n",
       "      <td>Mild Cheddar Cheese Sticks</td>\n",
       "      <td>358</td>\n",
       "    </tr>\n",
       "    <tr>\n",
       "      <th>21030976</th>\n",
       "      <td>21009</td>\n",
       "      <td>Crispy Wheat, Crackers</td>\n",
       "      <td>423</td>\n",
       "    </tr>\n",
       "    <tr>\n",
       "      <th>7932588</th>\n",
       "      <td>890</td>\n",
       "      <td>Organic Diced Tomatoes</td>\n",
       "      <td>12</td>\n",
       "    </tr>\n",
       "    <tr>\n",
       "      <th>11053885</th>\n",
       "      <td>2078</td>\n",
       "      <td>Unsalted Pure Irish Butter</td>\n",
       "      <td>29</td>\n",
       "    </tr>\n",
       "    <tr>\n",
       "      <th>21171416</th>\n",
       "      <td>14633</td>\n",
       "      <td>Veggie Chips</td>\n",
       "      <td>293</td>\n",
       "    </tr>\n",
       "    <tr>\n",
       "      <th>7873739</th>\n",
       "      <td>38777</td>\n",
       "      <td>Organic Green Seedless Grapes</td>\n",
       "      <td>770</td>\n",
       "    </tr>\n",
       "    <tr>\n",
       "      <th>25212561</th>\n",
       "      <td>28597</td>\n",
       "      <td>Organic Stoneground Wheat Crackers</td>\n",
       "      <td>581</td>\n",
       "    </tr>\n",
       "    <tr>\n",
       "      <th>13344599</th>\n",
       "      <td>32691</td>\n",
       "      <td>Vanilla Ice Cream</td>\n",
       "      <td>660</td>\n",
       "    </tr>\n",
       "    <tr>\n",
       "      <th>14254238</th>\n",
       "      <td>3957</td>\n",
       "      <td>100% Raw Coconut Water</td>\n",
       "      <td>61</td>\n",
       "    </tr>\n",
       "    <tr>\n",
       "      <th>14980577</th>\n",
       "      <td>11941</td>\n",
       "      <td>Tortillas, Corn, Organic</td>\n",
       "      <td>234</td>\n",
       "    </tr>\n",
       "    <tr>\n",
       "      <th>3596186</th>\n",
       "      <td>19660</td>\n",
       "      <td>Spring Water</td>\n",
       "      <td>397</td>\n",
       "    </tr>\n",
       "    <tr>\n",
       "      <th>12321984</th>\n",
       "      <td>18465</td>\n",
       "      <td>Organic Grade A Free Range Large Brown Eggs</td>\n",
       "      <td>370</td>\n",
       "    </tr>\n",
       "    <tr>\n",
       "      <th>18740513</th>\n",
       "      <td>40002</td>\n",
       "      <td>Strawberry Ice Cream</td>\n",
       "      <td>796</td>\n",
       "    </tr>\n",
       "    <tr>\n",
       "      <th>7354057</th>\n",
       "      <td>18234</td>\n",
       "      <td>Organic Spinach Bunch</td>\n",
       "      <td>362</td>\n",
       "    </tr>\n",
       "    <tr>\n",
       "      <th>19754462</th>\n",
       "      <td>46650</td>\n",
       "      <td>Special Reserve Extra Sharp Cheddar Cheese</td>\n",
       "      <td>932</td>\n",
       "    </tr>\n",
       "    <tr>\n",
       "      <th>13933166</th>\n",
       "      <td>14084</td>\n",
       "      <td>Organic Unsweetened Vanilla Almond Milk</td>\n",
       "      <td>283</td>\n",
       "    </tr>\n",
       "    <tr>\n",
       "      <th>20596215</th>\n",
       "      <td>24082</td>\n",
       "      <td>Organic Dark Sweet Cherries</td>\n",
       "      <td>489</td>\n",
       "    </tr>\n",
       "    <tr>\n",
       "      <th>24132278</th>\n",
       "      <td>10621</td>\n",
       "      <td>Organic Purple Kale</td>\n",
       "      <td>207</td>\n",
       "    </tr>\n",
       "    <tr>\n",
       "      <th>24177083</th>\n",
       "      <td>9421</td>\n",
       "      <td>Organic Raw Multigreen Kobmbucha</td>\n",
       "      <td>184</td>\n",
       "    </tr>\n",
       "    <tr>\n",
       "      <th>21484478</th>\n",
       "      <td>24759</td>\n",
       "      <td>Club Soda</td>\n",
       "      <td>497</td>\n",
       "    </tr>\n",
       "    <tr>\n",
       "      <th>26171829</th>\n",
       "      <td>49111</td>\n",
       "      <td>Original Instant Oatmeal</td>\n",
       "      <td>986</td>\n",
       "    </tr>\n",
       "    <tr>\n",
       "      <th>15617326</th>\n",
       "      <td>2086</td>\n",
       "      <td>Sustainably Soft Bath Tissue</td>\n",
       "      <td>30</td>\n",
       "    </tr>\n",
       "    <tr>\n",
       "      <th>4258535</th>\n",
       "      <td>25718</td>\n",
       "      <td>Cold Brew Coffee</td>\n",
       "      <td>521</td>\n",
       "    </tr>\n",
       "    <tr>\n",
       "      <th>21659783</th>\n",
       "      <td>17878</td>\n",
       "      <td>Grilled Chicken Breast Strips</td>\n",
       "      <td>355</td>\n",
       "    </tr>\n",
       "  </tbody>\n",
       "</table>\n",
       "</div>"
      ],
      "text/plain": [
       "          product_id                                 product_name  item\n",
       "7098624         5876                                Organic Lemon   115\n",
       "2762349        21137                         Organic Strawberries   425\n",
       "8142399        26209                                        Limes   532\n",
       "19160225       38739                                 Hass Avocado   767\n",
       "7443471         7021                         Organic Tomato Paste   132\n",
       "10198077       17948              Frozen Organic Wild Blueberries   357\n",
       "7674547        19057         Organic Large Extra Fancy Fuji Apple   389\n",
       "3482738        20995                     Organic Broccoli Florets   422\n",
       "13998046       23165                                 Organic Leek   467\n",
       "1888042        24852                                       Banana   504\n",
       "13558468       27521             Organic Lacinato (Dinosaur) Kale   559\n",
       "14665543       20842                        Total 0% Greek Yogurt   417\n",
       "1163581        27966                          Organic Raspberries   568\n",
       "7335298        11520                          Large Alfresco Eggs   228\n",
       "4055994        35547                            Organic Baby Kale   713\n",
       "7224257        30391                             Organic Cucumber   611\n",
       "8785507        12456                         Organic Sunday Bacon   244\n",
       "16364488       18370                  Organic Shredded Mozzarella   366\n",
       "6543273        39275                          Organic Blueberries   782\n",
       "7561582        24964                               Organic Garlic   506\n",
       "9525346        35503                  Organic Vanilla Almond Milk   711\n",
       "12100894       42768                       Organic Garbanzo Beans   853\n",
       "13230170       46720             Organic Free Range Chicken Broth   937\n",
       "8250002        20114                             Jalapeno Peppers   405\n",
       "13246029       43789                                Organic Basil   872\n",
       "19456532       10814                       Applewood Smoked Bacon   212\n",
       "13280509       17949                   Mild Cheddar Cheese Sticks   358\n",
       "21030976       21009                       Crispy Wheat, Crackers   423\n",
       "7932588          890                       Organic Diced Tomatoes    12\n",
       "11053885        2078                   Unsalted Pure Irish Butter    29\n",
       "21171416       14633                                 Veggie Chips   293\n",
       "7873739        38777                Organic Green Seedless Grapes   770\n",
       "25212561       28597           Organic Stoneground Wheat Crackers   581\n",
       "13344599       32691                            Vanilla Ice Cream   660\n",
       "14254238        3957                       100% Raw Coconut Water    61\n",
       "14980577       11941                     Tortillas, Corn, Organic   234\n",
       "3596186        19660                                 Spring Water   397\n",
       "12321984       18465  Organic Grade A Free Range Large Brown Eggs   370\n",
       "18740513       40002                         Strawberry Ice Cream   796\n",
       "7354057        18234                        Organic Spinach Bunch   362\n",
       "19754462       46650   Special Reserve Extra Sharp Cheddar Cheese   932\n",
       "13933166       14084      Organic Unsweetened Vanilla Almond Milk   283\n",
       "20596215       24082                  Organic Dark Sweet Cherries   489\n",
       "24132278       10621                          Organic Purple Kale   207\n",
       "24177083        9421             Organic Raw Multigreen Kobmbucha   184\n",
       "21484478       24759                                    Club Soda   497\n",
       "26171829       49111                     Original Instant Oatmeal   986\n",
       "15617326        2086                 Sustainably Soft Bath Tissue    30\n",
       "4258535        25718                             Cold Brew Coffee   521\n",
       "21659783       17878                Grilled Chicken Breast Strips   355"
      ]
     },
     "execution_count": 17,
     "metadata": {},
     "output_type": "execute_result"
    }
   ],
   "source": [
    "user_normalized = user_normalizer.lookup[10370] # Find normalized user_id\n",
    "\n",
    "bought_products_train = np.where(train_data_matrix[user_normalized,:])[0]\n",
    "bought_products_test  = np.where(test_data_matrix[user_normalized,:])[0]\n",
    "product_lookup[product_lookup.item.isin(bought_products_train)]"
   ]
  },
  {
   "cell_type": "markdown",
   "metadata": {
    "slideshow": {
     "slide_type": "subslide"
    }
   },
   "source": [
    "### Items bought in test set"
   ]
  },
  {
   "cell_type": "code",
   "execution_count": 18,
   "metadata": {
    "scrolled": true,
    "slideshow": {
     "slide_type": "-"
    }
   },
   "outputs": [
    {
     "data": {
      "text/html": [
       "<div>\n",
       "<style>\n",
       "    .dataframe thead tr:only-child th {\n",
       "        text-align: right;\n",
       "    }\n",
       "\n",
       "    .dataframe thead th {\n",
       "        text-align: left;\n",
       "    }\n",
       "\n",
       "    .dataframe tbody tr th {\n",
       "        vertical-align: top;\n",
       "    }\n",
       "</style>\n",
       "<table border=\"1\" class=\"dataframe\">\n",
       "  <thead>\n",
       "    <tr style=\"text-align: right;\">\n",
       "      <th></th>\n",
       "      <th>product_id</th>\n",
       "      <th>product_name</th>\n",
       "      <th>item</th>\n",
       "    </tr>\n",
       "  </thead>\n",
       "  <tbody>\n",
       "    <tr>\n",
       "      <th>15174494</th>\n",
       "      <td>5450</td>\n",
       "      <td>Small Hass Avocado</td>\n",
       "      <td>101</td>\n",
       "    </tr>\n",
       "    <tr>\n",
       "      <th>18627627</th>\n",
       "      <td>25588</td>\n",
       "      <td>Seedless Small Watermelon</td>\n",
       "      <td>517</td>\n",
       "    </tr>\n",
       "    <tr>\n",
       "      <th>10264083</th>\n",
       "      <td>22035</td>\n",
       "      <td>Organic Whole String Cheese</td>\n",
       "      <td>449</td>\n",
       "    </tr>\n",
       "    <tr>\n",
       "      <th>14234017</th>\n",
       "      <td>34243</td>\n",
       "      <td>Organic Baby Broccoli</td>\n",
       "      <td>690</td>\n",
       "    </tr>\n",
       "    <tr>\n",
       "      <th>9079988</th>\n",
       "      <td>8277</td>\n",
       "      <td>Apple Honeycrisp Organic</td>\n",
       "      <td>161</td>\n",
       "    </tr>\n",
       "    <tr>\n",
       "      <th>3726821</th>\n",
       "      <td>8021</td>\n",
       "      <td>100% Recycled Paper Towels</td>\n",
       "      <td>153</td>\n",
       "    </tr>\n",
       "    <tr>\n",
       "      <th>5590619</th>\n",
       "      <td>22935</td>\n",
       "      <td>Organic Yellow Onion</td>\n",
       "      <td>462</td>\n",
       "    </tr>\n",
       "    <tr>\n",
       "      <th>11590785</th>\n",
       "      <td>44359</td>\n",
       "      <td>Organic Small Bunch Celery</td>\n",
       "      <td>882</td>\n",
       "    </tr>\n",
       "    <tr>\n",
       "      <th>13206214</th>\n",
       "      <td>13829</td>\n",
       "      <td>Mild Salsa</td>\n",
       "      <td>276</td>\n",
       "    </tr>\n",
       "    <tr>\n",
       "      <th>18967656</th>\n",
       "      <td>36695</td>\n",
       "      <td>Organic Hothouse Cucumbers</td>\n",
       "      <td>730</td>\n",
       "    </tr>\n",
       "    <tr>\n",
       "      <th>12150961</th>\n",
       "      <td>43295</td>\n",
       "      <td>Unsweetened Vanilla Almond Milk</td>\n",
       "      <td>861</td>\n",
       "    </tr>\n",
       "    <tr>\n",
       "      <th>16727535</th>\n",
       "      <td>26800</td>\n",
       "      <td>Organic Baby Kale Mix</td>\n",
       "      <td>544</td>\n",
       "    </tr>\n",
       "    <tr>\n",
       "      <th>1616785</th>\n",
       "      <td>21405</td>\n",
       "      <td>Organic Red Radish, Bunch</td>\n",
       "      <td>436</td>\n",
       "    </tr>\n",
       "    <tr>\n",
       "      <th>15596859</th>\n",
       "      <td>22504</td>\n",
       "      <td>Organic Mountain Forest Amber Honey</td>\n",
       "      <td>456</td>\n",
       "    </tr>\n",
       "  </tbody>\n",
       "</table>\n",
       "</div>"
      ],
      "text/plain": [
       "          product_id                         product_name  item\n",
       "15174494        5450                   Small Hass Avocado   101\n",
       "18627627       25588            Seedless Small Watermelon   517\n",
       "10264083       22035          Organic Whole String Cheese   449\n",
       "14234017       34243                Organic Baby Broccoli   690\n",
       "9079988         8277             Apple Honeycrisp Organic   161\n",
       "3726821         8021           100% Recycled Paper Towels   153\n",
       "5590619        22935                 Organic Yellow Onion   462\n",
       "11590785       44359           Organic Small Bunch Celery   882\n",
       "13206214       13829                           Mild Salsa   276\n",
       "18967656       36695           Organic Hothouse Cucumbers   730\n",
       "12150961       43295      Unsweetened Vanilla Almond Milk   861\n",
       "16727535       26800                Organic Baby Kale Mix   544\n",
       "1616785        21405            Organic Red Radish, Bunch   436\n",
       "15596859       22504  Organic Mountain Forest Amber Honey   456"
      ]
     },
     "execution_count": 18,
     "metadata": {},
     "output_type": "execute_result"
    }
   ],
   "source": [
    "product_lookup[product_lookup.item.isin(bought_products_test)]"
   ]
  },
  {
   "cell_type": "markdown",
   "metadata": {
    "slideshow": {
     "slide_type": "subslide"
    }
   },
   "source": [
    "### Products recommended"
   ]
  },
  {
   "cell_type": "code",
   "execution_count": 19,
   "metadata": {
    "scrolled": true,
    "slideshow": {
     "slide_type": "-"
    }
   },
   "outputs": [
    {
     "data": {
      "text/html": [
       "<div>\n",
       "<style>\n",
       "    .dataframe thead tr:only-child th {\n",
       "        text-align: right;\n",
       "    }\n",
       "\n",
       "    .dataframe thead th {\n",
       "        text-align: left;\n",
       "    }\n",
       "\n",
       "    .dataframe tbody tr th {\n",
       "        vertical-align: top;\n",
       "    }\n",
       "</style>\n",
       "<table border=\"1\" class=\"dataframe\">\n",
       "  <thead>\n",
       "    <tr style=\"text-align: right;\">\n",
       "      <th></th>\n",
       "      <th>product_id</th>\n",
       "      <th>product_name</th>\n",
       "      <th>item</th>\n",
       "    </tr>\n",
       "  </thead>\n",
       "  <tbody>\n",
       "    <tr>\n",
       "      <th>4483330</th>\n",
       "      <td>8518</td>\n",
       "      <td>Organic Red Onion</td>\n",
       "      <td>167</td>\n",
       "    </tr>\n",
       "    <tr>\n",
       "      <th>2402823</th>\n",
       "      <td>31717</td>\n",
       "      <td>Organic Cilantro</td>\n",
       "      <td>637</td>\n",
       "    </tr>\n",
       "    <tr>\n",
       "      <th>11926926</th>\n",
       "      <td>34126</td>\n",
       "      <td>Organic Italian Parsley Bunch</td>\n",
       "      <td>686</td>\n",
       "    </tr>\n",
       "    <tr>\n",
       "      <th>100106</th>\n",
       "      <td>17794</td>\n",
       "      <td>Carrots</td>\n",
       "      <td>350</td>\n",
       "    </tr>\n",
       "    <tr>\n",
       "      <th>8876749</th>\n",
       "      <td>21616</td>\n",
       "      <td>Organic Baby Arugula</td>\n",
       "      <td>442</td>\n",
       "    </tr>\n",
       "    <tr>\n",
       "      <th>357827</th>\n",
       "      <td>21903</td>\n",
       "      <td>Organic Baby Spinach</td>\n",
       "      <td>445</td>\n",
       "    </tr>\n",
       "    <tr>\n",
       "      <th>10545290</th>\n",
       "      <td>27104</td>\n",
       "      <td>Fresh Cauliflower</td>\n",
       "      <td>550</td>\n",
       "    </tr>\n",
       "    <tr>\n",
       "      <th>11981911</th>\n",
       "      <td>45007</td>\n",
       "      <td>Organic Zucchini</td>\n",
       "      <td>899</td>\n",
       "    </tr>\n",
       "    <tr>\n",
       "      <th>2523965</th>\n",
       "      <td>47766</td>\n",
       "      <td>Organic Avocado</td>\n",
       "      <td>962</td>\n",
       "    </tr>\n",
       "    <tr>\n",
       "      <th>1039807</th>\n",
       "      <td>13176</td>\n",
       "      <td>Bag of Organic Bananas</td>\n",
       "      <td>258</td>\n",
       "    </tr>\n",
       "    <tr>\n",
       "      <th>1405646</th>\n",
       "      <td>47209</td>\n",
       "      <td>Organic Hass Avocado</td>\n",
       "      <td>952</td>\n",
       "    </tr>\n",
       "    <tr>\n",
       "      <th>9079988</th>\n",
       "      <td>8277</td>\n",
       "      <td>Apple Honeycrisp Organic</td>\n",
       "      <td>161</td>\n",
       "    </tr>\n",
       "    <tr>\n",
       "      <th>5131468</th>\n",
       "      <td>47626</td>\n",
       "      <td>Large Lemon</td>\n",
       "      <td>957</td>\n",
       "    </tr>\n",
       "    <tr>\n",
       "      <th>5590619</th>\n",
       "      <td>22935</td>\n",
       "      <td>Organic Yellow Onion</td>\n",
       "      <td>462</td>\n",
       "    </tr>\n",
       "    <tr>\n",
       "      <th>13126572</th>\n",
       "      <td>10749</td>\n",
       "      <td>Organic Red Bell Pepper</td>\n",
       "      <td>210</td>\n",
       "    </tr>\n",
       "    <tr>\n",
       "      <th>11590785</th>\n",
       "      <td>44359</td>\n",
       "      <td>Organic Small Bunch Celery</td>\n",
       "      <td>882</td>\n",
       "    </tr>\n",
       "    <tr>\n",
       "      <th>5995470</th>\n",
       "      <td>48679</td>\n",
       "      <td>Organic Garnet Sweet Potato (Yam)</td>\n",
       "      <td>979</td>\n",
       "    </tr>\n",
       "    <tr>\n",
       "      <th>535144</th>\n",
       "      <td>46667</td>\n",
       "      <td>Organic Ginger Root</td>\n",
       "      <td>934</td>\n",
       "    </tr>\n",
       "    <tr>\n",
       "      <th>4995492</th>\n",
       "      <td>41950</td>\n",
       "      <td>Organic Tomato Cluster</td>\n",
       "      <td>836</td>\n",
       "    </tr>\n",
       "    <tr>\n",
       "      <th>6939127</th>\n",
       "      <td>40706</td>\n",
       "      <td>Organic Grape Tomatoes</td>\n",
       "      <td>813</td>\n",
       "    </tr>\n",
       "  </tbody>\n",
       "</table>\n",
       "</div>"
      ],
      "text/plain": [
       "          product_id                       product_name  item\n",
       "4483330         8518                  Organic Red Onion   167\n",
       "2402823        31717                   Organic Cilantro   637\n",
       "11926926       34126      Organic Italian Parsley Bunch   686\n",
       "100106         17794                            Carrots   350\n",
       "8876749        21616               Organic Baby Arugula   442\n",
       "357827         21903               Organic Baby Spinach   445\n",
       "10545290       27104                  Fresh Cauliflower   550\n",
       "11981911       45007                   Organic Zucchini   899\n",
       "2523965        47766                    Organic Avocado   962\n",
       "1039807        13176             Bag of Organic Bananas   258\n",
       "1405646        47209               Organic Hass Avocado   952\n",
       "9079988         8277           Apple Honeycrisp Organic   161\n",
       "5131468        47626                        Large Lemon   957\n",
       "5590619        22935               Organic Yellow Onion   462\n",
       "13126572       10749            Organic Red Bell Pepper   210\n",
       "11590785       44359         Organic Small Bunch Celery   882\n",
       "5995470        48679  Organic Garnet Sweet Potato (Yam)   979\n",
       "535144         46667                Organic Ginger Root   934\n",
       "4995492        41950             Organic Tomato Cluster   836\n",
       "6939127        40706             Organic Grape Tomatoes   813"
      ]
     },
     "execution_count": 19,
     "metadata": {},
     "output_type": "execute_result"
    }
   ],
   "source": [
    "product_lookup[product_lookup.item.isin(predictions[:20])]"
   ]
  },
  {
   "cell_type": "markdown",
   "metadata": {
    "slideshow": {
     "slide_type": "subslide"
    }
   },
   "source": [
    "### Recommended correctly"
   ]
  },
  {
   "cell_type": "code",
   "execution_count": 20,
   "metadata": {},
   "outputs": [],
   "source": [
    "products_in_predictions_and_test = \\\n",
    "    set(predictions[:20]).intersection(set(bought_products_test))"
   ]
  },
  {
   "cell_type": "code",
   "execution_count": 21,
   "metadata": {
    "scrolled": true,
    "slideshow": {
     "slide_type": "-"
    }
   },
   "outputs": [
    {
     "data": {
      "text/html": [
       "<div>\n",
       "<style>\n",
       "    .dataframe thead tr:only-child th {\n",
       "        text-align: right;\n",
       "    }\n",
       "\n",
       "    .dataframe thead th {\n",
       "        text-align: left;\n",
       "    }\n",
       "\n",
       "    .dataframe tbody tr th {\n",
       "        vertical-align: top;\n",
       "    }\n",
       "</style>\n",
       "<table border=\"1\" class=\"dataframe\">\n",
       "  <thead>\n",
       "    <tr style=\"text-align: right;\">\n",
       "      <th></th>\n",
       "      <th>product_id</th>\n",
       "      <th>product_name</th>\n",
       "      <th>item</th>\n",
       "    </tr>\n",
       "  </thead>\n",
       "  <tbody>\n",
       "    <tr>\n",
       "      <th>9079988</th>\n",
       "      <td>8277</td>\n",
       "      <td>Apple Honeycrisp Organic</td>\n",
       "      <td>161</td>\n",
       "    </tr>\n",
       "    <tr>\n",
       "      <th>5590619</th>\n",
       "      <td>22935</td>\n",
       "      <td>Organic Yellow Onion</td>\n",
       "      <td>462</td>\n",
       "    </tr>\n",
       "    <tr>\n",
       "      <th>11590785</th>\n",
       "      <td>44359</td>\n",
       "      <td>Organic Small Bunch Celery</td>\n",
       "      <td>882</td>\n",
       "    </tr>\n",
       "  </tbody>\n",
       "</table>\n",
       "</div>"
      ],
      "text/plain": [
       "          product_id                product_name  item\n",
       "9079988         8277    Apple Honeycrisp Organic   161\n",
       "5590619        22935        Organic Yellow Onion   462\n",
       "11590785       44359  Organic Small Bunch Celery   882"
      ]
     },
     "execution_count": 21,
     "metadata": {},
     "output_type": "execute_result"
    }
   ],
   "source": [
    "product_lookup[product_lookup.item.isin(products_in_predictions_and_test)]"
   ]
  },
  {
   "cell_type": "markdown",
   "metadata": {
    "slideshow": {
     "slide_type": "fragment"
    }
   },
   "source": [
    "## Is this good?"
   ]
  },
  {
   "cell_type": "markdown",
   "metadata": {
    "slideshow": {
     "slide_type": "subslide"
    }
   },
   "source": [
    "# Metrics for recommendations"
   ]
  },
  {
   "cell_type": "markdown",
   "metadata": {
    "slideshow": {
     "slide_type": "fragment"
    }
   },
   "source": [
    "|||\n",
    "|-----------------:|-------------|--|\n",
    "| precision  | % of correct rec.    | dependent on k|\n",
    "| recall    | % of correct from test| dependent on k|\n",
    "| f1 score  | harmonic mean of precision and recall    | dependent on k |\n",
    "| mean average precision | front loading correct recommendations  | less dependend on k | \n",
    "| mean reciprical rank  | harmonic mean of rank |less dependent on k | \n",
    "|||"
   ]
  },
  {
   "cell_type": "markdown",
   "metadata": {
    "slideshow": {
     "slide_type": "fragment"
    }
   },
   "source": [
    "Calculate precision, recall and f1 score for k = 20 for user 10370"
   ]
  },
  {
   "cell_type": "code",
   "execution_count": 22,
   "metadata": {
    "slideshow": {
     "slide_type": "subslide"
    }
   },
   "outputs": [
    {
     "name": "stdout",
     "output_type": "stream",
     "text": [
      "precision 0.15\n",
      "recall    0.21428571428571427\n",
      "f1_score  0.1764705882352941\n"
     ]
    }
   ],
   "source": [
    "recommendations = make_predictions(10370)[:20]\n",
    "bought_products_test  = np.where(test_data_matrix[user_normalized,:])[0]\n",
    "\n",
    "precision = len(set(recommendations).intersection(set(bought_products_test)))/len(recommendations)\n",
    "recall   = len(set(recommendations).intersection(set(bought_products_test)))/len(bought_products_test)\n",
    "f1_score = 2*precision*recall/(precision+recall)\n",
    "print('precision', precision)\n",
    "print('recall   ', recall)\n",
    "print('f1_score ', f1_score)"
   ]
  },
  {
   "cell_type": "markdown",
   "metadata": {
    "slideshow": {
     "slide_type": "slide"
    }
   },
   "source": [
    "<center>![](https://media.giphy.com/media/a8749TBnyEIY8/giphy.gif)</center>"
   ]
  },
  {
   "cell_type": "markdown",
   "metadata": {
    "slideshow": {
     "slide_type": "slide"
    }
   },
   "source": [
    "# Model-based recommender\n"
   ]
  },
  {
   "cell_type": "markdown",
   "metadata": {
    "slideshow": {
     "slide_type": "fragment"
    }
   },
   "source": [
    "* **Before**: Recommendations based on similarity."
   ]
  },
  {
   "cell_type": "markdown",
   "metadata": {
    "slideshow": {
     "slide_type": "fragment"
    }
   },
   "source": [
    "* **Now**: We model the observed interactions as the product of item features $x^{(i)}$ and user features $\\theta^{(u)}$, such that <br>\n",
    "$(\\theta^{(u)})^T x^{(i)} \\approx y^{(u,i)} $<br>\n",
    "holds for all items"
   ]
  },
  {
   "cell_type": "markdown",
   "metadata": {
    "slideshow": {
     "slide_type": "subslide"
    }
   },
   "source": [
    "<center><img src=\"resources/ALS.png\" width=\"900\"></center>"
   ]
  },
  {
   "cell_type": "markdown",
   "metadata": {
    "slideshow": {
     "slide_type": "fragment"
    }
   },
   "source": [
    "With the trained model, that is with the learned user and product features, we can then compute interactions for a given user and for unseen given products."
   ]
  },
  {
   "cell_type": "markdown",
   "metadata": {
    "slideshow": {
     "slide_type": "fragment"
    }
   },
   "source": [
    "### But what features to use?"
   ]
  },
  {
   "cell_type": "markdown",
   "metadata": {
    "slideshow": {
     "slide_type": "subslide"
    }
   },
   "source": [
    "## Motivation: content based recommendation\n",
    "<center><img src=\"resources/content.png\" width=\"700\"></center>"
   ]
  },
  {
   "cell_type": "markdown",
   "metadata": {
    "slideshow": {
     "slide_type": "skip"
    }
   },
   "source": [
    "## motivation: content based recommendation\n",
    "| Product \\ User| 0| 1| 2| 3|$|$| $x_1$ (organic)  | $x_2$ (vitamins) | $x_3$ (proteine) |$|$|item_vector | \n",
    "|:--------      |--|--|--|--|-  |----              |----   |---|--|----------------------------------------------|\n",
    "| Spaghetti     | 1    | 0  | 0     | 0    |$|$| 0.5 | 0.2 | 0.1 |$|$|$ i^{(0)}=\\pmatrix{ 0.5, 0.2, 0.1}$\n",
    "| ground beef   | 0    | 1  | 1     | 1    |$|$| 0.3 | 0.6 | 0.9 |$|$|$i^{(1)}=\\pmatrix{ 0.3, 0.6, 0.9}$\n",
    "| tomato        | 1    | 1  | 0     | 1    |$|$| 1   | 0.7 | 0.3 |$|$|$i^{(2)}=\\pmatrix{ 1.0, 0.7, 0.3}$\n",
    "| Bell pepper   | 1    | 1  | 1     | 1    |$|$| 1   | 0.9 | 0.4 |$|$|$i^{(3)}=\\pmatrix{ 1.0, 0.9, 0.4}$\n",
    "| White rice    | 0    | 1  | 1     | 0    |$|$| 0.5 | 0.1 | 0.1 |$|$|$i^{(4)}=\\pmatrix{ 0.5, 0.1, 0.1}$"
   ]
  },
  {
   "cell_type": "markdown",
   "metadata": {
    "slideshow": {
     "slide_type": "fragment"
    }
   },
   "source": [
    "* Given $x^{(i)}$ we can optimize for user vectors, $\\theta^{(u)}$, such that when multiplied with the item vectors, we best approximate the observed purchases $y^{(u,i)}$. \n",
    "* We can do this by solving:<br>\n",
    "$\n",
    "\\underset{\\theta^{(u)}}{\\min{}}\n",
    "\\frac{1}{2} \\sum_{j:r(i,j)=1} ((\\theta^{(j)})^T x^{(i)} - y^{(i,j)})^2  + \n",
    "\\frac{\\lambda}{2} \\sum_{k=1}^n (\\theta_k^{(u)})^2\n",
    "$"
   ]
  },
  {
   "cell_type": "markdown",
   "metadata": {
    "slideshow": {
     "slide_type": "subslide"
    }
   },
   "source": [
    "* Given $x^{(i)}$ we can optimize for user vectors, $\\theta^{(u)}$, such that when multiplied with the item vectors, we best approximate the observed purchases $y^{(u,i)}$. \n",
    "* We can do this by solving:<br>\n",
    "$\n",
    "\\underset{\\theta^{(u)}}{\\min{}}\n",
    "\\frac{1}{2} \\sum_{j:r(i,j)=1} ((\\theta^{(j)})^T x^{(i)} - y^{(i,j)})^2  + \n",
    "\\frac{\\lambda}{2} \\sum_{k=1}^n (\\theta_k^{(u)})^2\n",
    "$"
   ]
  },
  {
   "cell_type": "markdown",
   "metadata": {
    "slideshow": {
     "slide_type": "fragment"
    }
   },
   "source": [
    "* However, are the features that we used optimal to explain the observed interactions?\n",
    "* Subsequently, given user vectors $\\theta^{(u)}$ optimize for item vectors $x^{(i)}$\n",
    "* Alternating Least Squares: \n",
    "$\\theta \\rightarrow x \\rightarrow \\theta \\rightarrow x  \\rightarrow \\theta \\rightarrow x\\rightarrow \\dots$"
   ]
  },
  {
   "cell_type": "markdown",
   "metadata": {
    "slideshow": {
     "slide_type": "fragment"
    }
   },
   "source": [
    "* There exist many packages that implement this algorithm, for example `implicit`"
   ]
  },
  {
   "cell_type": "code",
   "execution_count": 23,
   "metadata": {
    "slideshow": {
     "slide_type": "subslide"
    }
   },
   "outputs": [],
   "source": [
    "from implicit.als import AlternatingLeastSquares\n",
    "from scipy import sparse\n",
    "\n",
    "model = AlternatingLeastSquares(factors=20)\n",
    "\n",
    "user_item_train = sparse.csr_matrix(train_data_matrix)\n",
    "\n",
    "model.fit(user_item_train.T)\n",
    "\n",
    "recommendations = model.recommend(user_normalizer.lookup[10370],user_item_train,\\\n",
    "                      N=25,\\\n",
    "                filter_items=list(user_item_train[user_normalizer.lookup[125981]].indices)) # To remove train items\n",
    "\n",
    "recommendations = [x[0] for x in recommendations[:20]]"
   ]
  },
  {
   "cell_type": "code",
   "execution_count": 24,
   "metadata": {
    "scrolled": true,
    "slideshow": {
     "slide_type": "subslide"
    }
   },
   "outputs": [
    {
     "data": {
      "text/html": [
       "<div>\n",
       "<style>\n",
       "    .dataframe thead tr:only-child th {\n",
       "        text-align: right;\n",
       "    }\n",
       "\n",
       "    .dataframe thead th {\n",
       "        text-align: left;\n",
       "    }\n",
       "\n",
       "    .dataframe tbody tr th {\n",
       "        vertical-align: top;\n",
       "    }\n",
       "</style>\n",
       "<table border=\"1\" class=\"dataframe\">\n",
       "  <thead>\n",
       "    <tr style=\"text-align: right;\">\n",
       "      <th></th>\n",
       "      <th>product_id</th>\n",
       "      <th>product_name</th>\n",
       "      <th>item</th>\n",
       "    </tr>\n",
       "  </thead>\n",
       "  <tbody>\n",
       "    <tr>\n",
       "      <th>2402823</th>\n",
       "      <td>31717</td>\n",
       "      <td>Organic Cilantro</td>\n",
       "      <td>637</td>\n",
       "    </tr>\n",
       "    <tr>\n",
       "      <th>18007198</th>\n",
       "      <td>16759</td>\n",
       "      <td>Organic Carrot Bunch</td>\n",
       "      <td>330</td>\n",
       "    </tr>\n",
       "    <tr>\n",
       "      <th>15515824</th>\n",
       "      <td>27086</td>\n",
       "      <td>Half &amp; Half</td>\n",
       "      <td>549</td>\n",
       "    </tr>\n",
       "    <tr>\n",
       "      <th>10545290</th>\n",
       "      <td>27104</td>\n",
       "      <td>Fresh Cauliflower</td>\n",
       "      <td>550</td>\n",
       "    </tr>\n",
       "    <tr>\n",
       "      <th>11981911</th>\n",
       "      <td>45007</td>\n",
       "      <td>Organic Zucchini</td>\n",
       "      <td>899</td>\n",
       "    </tr>\n",
       "    <tr>\n",
       "      <th>2523965</th>\n",
       "      <td>47766</td>\n",
       "      <td>Organic Avocado</td>\n",
       "      <td>962</td>\n",
       "    </tr>\n",
       "    <tr>\n",
       "      <th>3420389</th>\n",
       "      <td>27845</td>\n",
       "      <td>Organic Whole Milk</td>\n",
       "      <td>567</td>\n",
       "    </tr>\n",
       "    <tr>\n",
       "      <th>14234017</th>\n",
       "      <td>34243</td>\n",
       "      <td>Organic Baby Broccoli</td>\n",
       "      <td>690</td>\n",
       "    </tr>\n",
       "    <tr>\n",
       "      <th>1405646</th>\n",
       "      <td>47209</td>\n",
       "      <td>Organic Hass Avocado</td>\n",
       "      <td>952</td>\n",
       "    </tr>\n",
       "    <tr>\n",
       "      <th>9079988</th>\n",
       "      <td>8277</td>\n",
       "      <td>Apple Honeycrisp Organic</td>\n",
       "      <td>161</td>\n",
       "    </tr>\n",
       "    <tr>\n",
       "      <th>7795510</th>\n",
       "      <td>26604</td>\n",
       "      <td>Organic Blackberries</td>\n",
       "      <td>539</td>\n",
       "    </tr>\n",
       "    <tr>\n",
       "      <th>5131468</th>\n",
       "      <td>47626</td>\n",
       "      <td>Large Lemon</td>\n",
       "      <td>957</td>\n",
       "    </tr>\n",
       "    <tr>\n",
       "      <th>13126572</th>\n",
       "      <td>10749</td>\n",
       "      <td>Organic Red Bell Pepper</td>\n",
       "      <td>210</td>\n",
       "    </tr>\n",
       "    <tr>\n",
       "      <th>11590785</th>\n",
       "      <td>44359</td>\n",
       "      <td>Organic Small Bunch Celery</td>\n",
       "      <td>882</td>\n",
       "    </tr>\n",
       "    <tr>\n",
       "      <th>14328884</th>\n",
       "      <td>8174</td>\n",
       "      <td>Organic Navel Orange</td>\n",
       "      <td>157</td>\n",
       "    </tr>\n",
       "    <tr>\n",
       "      <th>6842432</th>\n",
       "      <td>37646</td>\n",
       "      <td>Organic Gala Apples</td>\n",
       "      <td>746</td>\n",
       "    </tr>\n",
       "    <tr>\n",
       "      <th>13431721</th>\n",
       "      <td>39877</td>\n",
       "      <td>Organic Granny Smith Apple</td>\n",
       "      <td>790</td>\n",
       "    </tr>\n",
       "    <tr>\n",
       "      <th>535144</th>\n",
       "      <td>46667</td>\n",
       "      <td>Organic Ginger Root</td>\n",
       "      <td>934</td>\n",
       "    </tr>\n",
       "    <tr>\n",
       "      <th>4995492</th>\n",
       "      <td>41950</td>\n",
       "      <td>Organic Tomato Cluster</td>\n",
       "      <td>836</td>\n",
       "    </tr>\n",
       "    <tr>\n",
       "      <th>9668196</th>\n",
       "      <td>13984</td>\n",
       "      <td>Organic Mint</td>\n",
       "      <td>282</td>\n",
       "    </tr>\n",
       "  </tbody>\n",
       "</table>\n",
       "</div>"
      ],
      "text/plain": [
       "          product_id                product_name  item\n",
       "2402823        31717            Organic Cilantro   637\n",
       "18007198       16759        Organic Carrot Bunch   330\n",
       "15515824       27086                 Half & Half   549\n",
       "10545290       27104           Fresh Cauliflower   550\n",
       "11981911       45007            Organic Zucchini   899\n",
       "2523965        47766             Organic Avocado   962\n",
       "3420389        27845          Organic Whole Milk   567\n",
       "14234017       34243       Organic Baby Broccoli   690\n",
       "1405646        47209        Organic Hass Avocado   952\n",
       "9079988         8277    Apple Honeycrisp Organic   161\n",
       "7795510        26604        Organic Blackberries   539\n",
       "5131468        47626                 Large Lemon   957\n",
       "13126572       10749     Organic Red Bell Pepper   210\n",
       "11590785       44359  Organic Small Bunch Celery   882\n",
       "14328884        8174        Organic Navel Orange   157\n",
       "6842432        37646         Organic Gala Apples   746\n",
       "13431721       39877  Organic Granny Smith Apple   790\n",
       "535144         46667         Organic Ginger Root   934\n",
       "4995492        41950      Organic Tomato Cluster   836\n",
       "9668196        13984                Organic Mint   282"
      ]
     },
     "execution_count": 24,
     "metadata": {},
     "output_type": "execute_result"
    }
   ],
   "source": [
    "product_lookup[product_lookup.item.isin(recommendations)]"
   ]
  },
  {
   "cell_type": "markdown",
   "metadata": {
    "slideshow": {
     "slide_type": "subslide"
    }
   },
   "source": [
    "### Correct recommendations by implicit ALS"
   ]
  },
  {
   "cell_type": "code",
   "execution_count": 25,
   "metadata": {
    "scrolled": false,
    "slideshow": {
     "slide_type": "subslide"
    }
   },
   "outputs": [
    {
     "data": {
      "text/html": [
       "<div>\n",
       "<style>\n",
       "    .dataframe thead tr:only-child th {\n",
       "        text-align: right;\n",
       "    }\n",
       "\n",
       "    .dataframe thead th {\n",
       "        text-align: left;\n",
       "    }\n",
       "\n",
       "    .dataframe tbody tr th {\n",
       "        vertical-align: top;\n",
       "    }\n",
       "</style>\n",
       "<table border=\"1\" class=\"dataframe\">\n",
       "  <thead>\n",
       "    <tr style=\"text-align: right;\">\n",
       "      <th></th>\n",
       "      <th>product_id</th>\n",
       "      <th>product_name</th>\n",
       "      <th>item</th>\n",
       "    </tr>\n",
       "  </thead>\n",
       "  <tbody>\n",
       "    <tr>\n",
       "      <th>14234017</th>\n",
       "      <td>34243</td>\n",
       "      <td>Organic Baby Broccoli</td>\n",
       "      <td>690</td>\n",
       "    </tr>\n",
       "    <tr>\n",
       "      <th>9079988</th>\n",
       "      <td>8277</td>\n",
       "      <td>Apple Honeycrisp Organic</td>\n",
       "      <td>161</td>\n",
       "    </tr>\n",
       "    <tr>\n",
       "      <th>11590785</th>\n",
       "      <td>44359</td>\n",
       "      <td>Organic Small Bunch Celery</td>\n",
       "      <td>882</td>\n",
       "    </tr>\n",
       "  </tbody>\n",
       "</table>\n",
       "</div>"
      ],
      "text/plain": [
       "          product_id                product_name  item\n",
       "14234017       34243       Organic Baby Broccoli   690\n",
       "9079988         8277    Apple Honeycrisp Organic   161\n",
       "11590785       44359  Organic Small Bunch Celery   882"
      ]
     },
     "execution_count": 25,
     "metadata": {},
     "output_type": "execute_result"
    }
   ],
   "source": [
    "product_lookup[product_lookup.item.isin(set(recommendations).intersection(set(bought_products_test)))]"
   ]
  },
  {
   "cell_type": "markdown",
   "metadata": {
    "slideshow": {
     "slide_type": "slide"
    }
   },
   "source": [
    "# Neural network based models"
   ]
  },
  {
   "cell_type": "markdown",
   "metadata": {},
   "source": [
    "* Recently, advanced deep learning frameworks\n",
    "* More freedom with development\n",
    "* Better training possibilities"
   ]
  },
  {
   "cell_type": "markdown",
   "metadata": {
    "slideshow": {
     "slide_type": "subslide"
    }
   },
   "source": [
    "## Youtube Recommender"
   ]
  },
  {
   "cell_type": "markdown",
   "metadata": {
    "slideshow": {
     "slide_type": "-"
    }
   },
   "source": [
    "<center><img src=\"resources/neuralnet.png\" width=\"600\"></center>"
   ]
  },
  {
   "cell_type": "markdown",
   "metadata": {
    "slideshow": {
     "slide_type": "slide"
    }
   },
   "source": [
    "# Conclusion"
   ]
  },
  {
   "cell_type": "markdown",
   "metadata": {
    "slideshow": {
     "slide_type": "subslide"
    }
   },
   "source": [
    "* Recommendations everywhere\n",
    "* Simple algorithms work well\n",
    "* Trend to use implicit feedback only\n",
    "* Active research area, especially focussed on deep learning techniques"
   ]
  },
  {
   "cell_type": "code",
   "execution_count": null,
   "metadata": {},
   "outputs": [],
   "source": []
  }
 ],
 "metadata": {
  "celltoolbar": "Slideshow",
  "kernelspec": {
   "display_name": "Python 3",
   "language": "python",
   "name": "python3"
  },
  "language_info": {
   "codemirror_mode": {
    "name": "ipython",
    "version": 3
   },
   "file_extension": ".py",
   "mimetype": "text/x-python",
   "name": "python",
   "nbconvert_exporter": "python",
   "pygments_lexer": "ipython3",
   "version": "3.6.1"
  }
 },
 "nbformat": 4,
 "nbformat_minor": 2
}
